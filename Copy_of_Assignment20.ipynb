{
  "nbformat": 4,
  "nbformat_minor": 0,
  "metadata": {
    "colab": {
      "provenance": [],
      "include_colab_link": true
    },
    "kernelspec": {
      "name": "python3",
      "display_name": "Python 3"
    },
    "language_info": {
      "name": "python"
    }
  },
  "cells": [
    {
      "cell_type": "markdown",
      "metadata": {
        "id": "view-in-github",
        "colab_type": "text"
      },
      "source": [
        "<a href=\"https://colab.research.google.com/github/AJDempsey651/CSC221_AJDempsey/blob/main/Copy_of_Assignment20.ipynb\" target=\"_parent\"><img src=\"https://colab.research.google.com/assets/colab-badge.svg\" alt=\"Open In Colab\"/></a>"
      ]
    },
    {
      "cell_type": "markdown",
      "source": [
        "# Assignment 20\n",
        "## CSC 221\n",
        "- Adam Dempsey\n",
        "\n",
        "### Instructions:\n",
        "Fill in each code cell below the question. We are following along in Chapter 4 of Python Distilled."
      ],
      "metadata": {
        "id": "IAOUzGWE1eDx"
      }
    },
    {
      "cell_type": "code",
      "execution_count": 1,
      "metadata": {
        "id": "Gnj3su7i5-lx",
        "colab": {
          "base_uri": "https://localhost:8080/"
        },
        "outputId": "2dde61ff-0ceb-4a7b-d132-1fec78f432ad"
      },
      "outputs": [
        {
          "output_type": "stream",
          "name": "stdout",
          "text": [
            "19\n",
            "44.5\n",
            "asdfg13\n"
          ]
        }
      ],
      "source": [
        "# 4.1 Essential Concepts\n",
        "\n",
        "# When we write \"a + b\" in Python, the interpreter tries to execute a.__add__(b)\n",
        "\n",
        "# Show that this is true by trying the following:\n",
        "a = 6\n",
        "b = 31.5\n",
        "c = 'asdfg'\n",
        "a1 = a.__add__(13)\n",
        "b1 = b.__add__(13)\n",
        "c1 = c.__add__('13')\n",
        "print(a1)\n",
        "print(b1)\n",
        "print(c1)\n",
        "\n",
        "# What are the types of a, b, and c?\n",
        "# a type is an integer\n",
        "# b type is an integer\n",
        "# c type is a string\n",
        "\n",
        "# Explain the results\n",
        "# since a and b are integers so when the add method was used on a and b to add 13 to their value, their values changed from 6 and 31.5 to 19 and 44.5\n",
        "# sicne c is a string, when the add method was used it just added 13 to the end of the string.\n"
      ]
    },
    {
      "cell_type": "code",
      "source": [
        "# 4.2 through 4.4 will be covered in the next assignment\n"
      ],
      "metadata": {
        "id": "w2uYd3DO2do6"
      },
      "execution_count": null,
      "outputs": []
    },
    {
      "cell_type": "code",
      "source": [
        "# 4.5 str and repr\n",
        "# How many categpries of printing are shown below for a datetime object?\n",
        "# What in the Pythion code makes each one get callled?\n",
        "\n",
        "from datetime import date\n",
        "d = date(2023, 11, 7)\n",
        "\n",
        "#print(d)\n",
        "#print(f'{d}')\n",
        "#print(f'{d!s}')\n",
        "#print(f'{d!r}')\n",
        "#print(str(d))\n",
        "#print(repr(d))\n",
        "#print(d.__str__())\n",
        "#print(d.__repr__())\n",
        "\n",
        "#There are three categories of printing for the datetime object.\n",
        "#The print function makes each one get called.\n"
      ],
      "metadata": {
        "id": "Aa3ylzmV2wNF"
      },
      "execution_count": 2,
      "outputs": []
    },
    {
      "cell_type": "code",
      "source": [
        "# 4.6 First-Class Objects\n",
        "# What is the significance of all objects being \"first-class\" in Python?\n",
        "# It means taht all objects can be assigned to a name and treated as data. This allows the data to be stored and used.\n",
        "\n",
        "# Explain by typing in the code to create and use the 'items' dictionary shown in section 4.6.\n",
        "# Explain each of the lines starting with '>>>' in the section.\n",
        "items = {\n",
        "    'number' : 42,\n",
        "    'text' : \"Hello World\"\n",
        "}\n",
        "\n",
        "items['func'] = abs\n",
        "import math\n",
        "items['mod'] = math\n",
        "items['error'] = ValueError\n",
        "nums = [1, 2, 3, 4]\n",
        "items['append'] = nums.append\n",
        "items['func'](-45) #Returns the absolute value of -45\n",
        "items['mod'].sqrt(4) #Returns the square root of 4\n",
        "try: #except ValueError as e\n",
        "  x = int('a lot')\n",
        "except items['error'] as e:\n",
        "  print(\"Couldn't convert\")\n",
        "items['append'](100) # Appends 100 to nums\n",
        "nums\n",
        "\n"
      ],
      "metadata": {
        "id": "9LRpP06Vsw6n",
        "colab": {
          "base_uri": "https://localhost:8080/"
        },
        "outputId": "6fccbe9e-68e7-4ef2-e2de-882bd51a0d08"
      },
      "execution_count": 3,
      "outputs": [
        {
          "output_type": "stream",
          "name": "stdout",
          "text": [
            "Couldn't convert\n"
          ]
        },
        {
          "output_type": "execute_result",
          "data": {
            "text/plain": [
              "[1, 2, 3, 4, 100]"
            ]
          },
          "metadata": {},
          "execution_count": 3
        }
      ]
    },
    {
      "cell_type": "code",
      "source": [
        "# 4.7 Using None\n",
        "# Write a function that takes two parameters and returns their sum if they are\n",
        "#  integers or returns None if either one is not.\n",
        "\n",
        "# Put in some test code to show that your function works\n",
        "\n",
        "def sumofxandy(x, y):\n",
        "  if type(x) == int and type(y) == int:\n",
        "    return(x + y)\n",
        "  elif x != int:\n",
        "    return None\n",
        "  elif y != int:\n",
        "    return None\n",
        "\n",
        "print(sumofxandy(5, 6))\n",
        "print(sumofxandy(5, '6'))\n",
        "print(sumofxandy('hello', 6))"
      ],
      "metadata": {
        "id": "dUhRWGnCtewU",
        "colab": {
          "base_uri": "https://localhost:8080/"
        },
        "outputId": "69afa464-ef78-468a-f22a-4e74b533becf"
      },
      "execution_count": 16,
      "outputs": [
        {
          "output_type": "stream",
          "name": "stdout",
          "text": [
            "11\n",
            "None\n",
            "None\n"
          ]
        }
      ]
    },
    {
      "cell_type": "code",
      "source": [
        "# 4.9 Object Protocol\n",
        "# Create a simple object that has methods for:\n",
        "#  __new__\n",
        "#  __init__\n",
        "#  __del__\n",
        "#  __repr__\n",
        "#  __str__\n",
        "\n",
        "# Put in some test code to show how and when each of these 'magic' functions gets called.\n",
        "\n",
        "class ObjectProtocol:\n",
        "  def __new__(cls, name, age):\n",
        "    instance = super().__new__(cls)\n",
        "    return instance\n",
        "\n",
        "  def __init__(self, name, age):\n",
        "    self.name = name\n",
        "    self.age = age\n",
        "\n",
        "  def __del__(self):\n",
        "    print(\"deleted\")\n",
        "\n",
        "  def __repr__(self):\n",
        "    print('Person:',({self.name}, {self.age}))\n",
        "\n",
        "  def __str__(self):\n",
        "    print('Name is, {self.name}')\n",
        "    print('Age is, {self.age}')\n",
        "\n",
        "(ObjectProtocol.__new__(ObjectProtocol, 'Adam', 20))\n",
        "\n"
      ],
      "metadata": {
        "id": "4M-CQevEt2xQ"
      },
      "execution_count": null,
      "outputs": []
    }
  ]
}
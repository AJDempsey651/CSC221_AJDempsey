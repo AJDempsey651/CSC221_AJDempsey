{
  "nbformat": 4,
  "nbformat_minor": 0,
  "metadata": {
    "colab": {
      "provenance": [],
      "authorship_tag": "ABX9TyOlwhR722nNMz6wUUcEL6rA",
      "include_colab_link": true
    },
    "kernelspec": {
      "name": "python3",
      "display_name": "Python 3"
    },
    "language_info": {
      "name": "python"
    }
  },
  "cells": [
    {
      "cell_type": "markdown",
      "metadata": {
        "id": "view-in-github",
        "colab_type": "text"
      },
      "source": [
        "<a href=\"https://colab.research.google.com/github/AJDempsey651/CSC221_AJDempsey/blob/main/Assignment7ipynb.ipynb\" target=\"_parent\"><img src=\"https://colab.research.google.com/assets/colab-badge.svg\" alt=\"Open In Colab\"/></a>"
      ]
    },
    {
      "cell_type": "code",
      "execution_count": 1,
      "metadata": {
        "colab": {
          "base_uri": "https://localhost:8080/"
        },
        "id": "M-M16yc-U8dR",
        "outputId": "97fa11bb-c144-4a00-c4c6-b8f9636a4556"
      },
      "outputs": [
        {
          "output_type": "stream",
          "name": "stdout",
          "text": [
            "Adam\n",
            "Dempsey\n",
            "22\n",
            "Branchville\n"
          ]
        }
      ],
      "source": [
        "person = {'first_name': 'Adam', 'last_name': 'Dempsey', 'age': '22', 'city': 'Branchville'}\n",
        "print(person['first_name'])\n",
        "print(person['last_name'])\n",
        "print(person['age'])\n",
        "print(person['city'])"
      ]
    },
    {
      "cell_type": "code",
      "source": [
        "favorite_numbers = {'Adam': '5', 'James': '10', 'Matt': '3', 'Bryce': '13'}\n",
        "print(\"Adam's favorite number is \" + (favorite_numbers['Adam']))\n",
        "print(\"James' favorite number is \" + (favorite_numbers['James']))\n",
        "print(\"Matt's favorite number is \" + (favorite_numbers['Matt']))\n",
        "print(\"Bryce's favorite number is \" + (favorite_numbers['Bryce']))"
      ],
      "metadata": {
        "colab": {
          "base_uri": "https://localhost:8080/"
        },
        "id": "e4Q1DD87V5_v",
        "outputId": "b14cd002-9e6d-40e2-ecc9-b5d9c00ade3b"
      },
      "execution_count": 8,
      "outputs": [
        {
          "output_type": "stream",
          "name": "stdout",
          "text": [
            "Adam's favorite number is 5\n",
            "James' favorite number is 10\n",
            "Matt's favorite number is 3\n",
            "Bryce's favorite number is 13\n"
          ]
        }
      ]
    },
    {
      "cell_type": "code",
      "source": [
        "Glossary = {'For Loop': 'a control flow statement that is used to repeatedly execute a group of statements as long as the condition is satisfied', 'List': 'an ordered and changeable collection of data objects.', 'If Statement': 'a condition statement used to check a condition, and execute it if the condition holds true.', 'Tuple': 'a collection of objects separated by commas.', 'Print Statement': 'helps in printing the specified message onto the screen, or any other standard output device.'}\n",
        "print('For Loop: \\n ' + (Glossary['For Loop']))\n",
        "print('List: \\n ' + (Glossary['List']))\n",
        "print('If Statement: \\n ' + (Glossary['If Statement']))\n",
        "print('Tuple: \\n  ' + (Glossary['Tuple']))\n",
        "print('Print Statement: \\n  ' + (Glossary['Print Statement']))"
      ],
      "metadata": {
        "colab": {
          "base_uri": "https://localhost:8080/"
        },
        "id": "xT6fcYYNXV2d",
        "outputId": "2deddec4-e769-40ee-915b-487a6ce9af0c"
      },
      "execution_count": 12,
      "outputs": [
        {
          "output_type": "stream",
          "name": "stdout",
          "text": [
            "For Loop: \n",
            " a control flow statement that is used to repeatedly execute a group of statements as long as the condition is satisfied\n",
            "List: \n",
            " an ordered and changeable collection of data objects.\n",
            "If Statement: \n",
            " a condition statement used to check a condition, and execute it if the condition holds true.\n",
            "Tuple: \n",
            "  a collection of objects separated by commas.\n",
            "Print Statement: \n",
            "  helps in printing the specified message onto the screen, or any other standard output device.\n"
          ]
        }
      ]
    },
    {
      "cell_type": "code",
      "source": [
        "Glossary = {'For Loop': 'a control flow statement that is used to repeatedly execute a group of statements as long as the condition is satisfied', 'List': 'an ordered and changeable collection of data objects.', 'If Statement': 'a condition statement used to check a condition, and execute it if the condition holds true.', 'Tuple': 'a collection of objects separated by commas.', 'Print Statement': 'helps in printing the specified message onto the screen, or any other standard output device.', 'Dictionary': 'mutable data structures that allow you to store key-value pairs.', 'Key': 'analogous to indexes of a list.', 'Dictionary Value': 'an inbuilt method in Python programming language that returns a view object.', 'Reverse Statment': 'a builtin-method that returns an iterator that accesses the given sequence in the reverse order.', 'Sort Statement': 'The sort() method sorts the list.'}\n",
        "for key, value in Glossary.items():\n",
        "  print(f'\\nWord: {key}')\n",
        "  print(f\"Definition: {value}\")"
      ],
      "metadata": {
        "colab": {
          "base_uri": "https://localhost:8080/"
        },
        "id": "XKUPGFSEY5sz",
        "outputId": "f825ed73-9583-43a2-edf7-87930e75c2b2"
      },
      "execution_count": 40,
      "outputs": [
        {
          "output_type": "stream",
          "name": "stdout",
          "text": [
            "\n",
            "Word: For Loop\n",
            "Definition: a control flow statement that is used to repeatedly execute a group of statements as long as the condition is satisfied\n",
            "\n",
            "Word: List\n",
            "Definition: an ordered and changeable collection of data objects.\n",
            "\n",
            "Word: If Statement\n",
            "Definition: a condition statement used to check a condition, and execute it if the condition holds true.\n",
            "\n",
            "Word: Tuple\n",
            "Definition: a collection of objects separated by commas.\n",
            "\n",
            "Word: Print Statement\n",
            "Definition: helps in printing the specified message onto the screen, or any other standard output device.\n",
            "\n",
            "Word: Dictionary\n",
            "Definition: mutable data structures that allow you to store key-value pairs.\n",
            "\n",
            "Word: Key\n",
            "Definition: analogous to indexes of a list.\n",
            "\n",
            "Word: Dictionary Value\n",
            "Definition: an inbuilt method in Python programming language that returns a view object.\n",
            "\n",
            "Word: Reverse Statment\n",
            "Definition: a builtin-method that returns an iterator that accesses the given sequence in the reverse order.\n",
            "\n",
            "Word: Sort Statement\n",
            "Definition: The sort() method sorts the list.\n"
          ]
        }
      ]
    },
    {
      "cell_type": "code",
      "source": [
        "Cities = {\n",
        "    'New York': {\n",
        "        'Country' : 'USA',\n",
        "        'Population': '8.4 Million',\n",
        "        'Fact': 'This is the most popular city in the USA'\n",
        "    },\n",
        "    'Philadelphia': {\n",
        "        'Country' : 'USA',\n",
        "        'Population': '1.5 Million',\n",
        "        'Fact': 'This was the first Capital of the USA'\n",
        "    },\n",
        "    'Washington D.C.': {\n",
        "        'Country' : 'USA',\n",
        "        'Population': '700 Thosand',\n",
        "        'Fact': 'This is the Capital of the USA'\n",
        "    }\n",
        "\n",
        "}\n",
        "for City, City_info in Cities.items():\n",
        "  print(f\"\\nCity: {City}\")\n",
        "  Country = f\"{City_info['Country']}\"\n",
        "  Population = f\"{City_info['Population']}\"\n",
        "  Fact = f\"{City_info['Fact']}\"\n",
        "  print(f\"\\tCountry: {Country}\")\n",
        "  print(f\"\\tPopulation: {Population}\")\n",
        "  print(f\"\\tFact: {Fact}\")"
      ],
      "metadata": {
        "colab": {
          "base_uri": "https://localhost:8080/"
        },
        "id": "iJc2prSKdpRj",
        "outputId": "d78cdada-0ebc-4268-d98a-677e1776b536"
      },
      "execution_count": 39,
      "outputs": [
        {
          "output_type": "stream",
          "name": "stdout",
          "text": [
            "\n",
            "City: New York\n",
            "\tCountry: USA\n",
            "\tPopulation: 8.4 Million\n",
            "\tFact: This is the most popular city in the USA\n",
            "\n",
            "City: Philadelphia\n",
            "\tCountry: USA\n",
            "\tPopulation: 1.5 Million\n",
            "\tFact: This was the first Capital of the USA\n",
            "\n",
            "City: Washington D.C.\n",
            "\tCountry: USA\n",
            "\tPopulation: 700 Thosand\n",
            "\tFact: This is the Capital of the USA\n"
          ]
        }
      ]
    },
    {
      "cell_type": "code",
      "source": [
        "users = {\n",
        "    'aeinstein': {\n",
        "        'first': 'albert',\n",
        "        'last': 'einstein',\n",
        "        'location': 'princton',\n",
        "        'country': 'United States',\n",
        "    },\n",
        "    'mcurie': {\n",
        "        'first': 'marie',\n",
        "        'last': 'curie',\n",
        "        'location': 'paris',\n",
        "        'country': 'France'\n",
        "    },\n",
        "}\n",
        "for username, user_info in users.items():\n",
        "  print(f\"\\nUsername: {username}\")\n",
        "  full_name = f\"{user_info['first']} {user_info['last']}\"\n",
        "  location = user_info['location']\n",
        "  country = user_info['country']\n",
        "  print(f\"\\tFull name: {full_name.title()}\")\n",
        "  print(f\"\\tLocation: {location.title()}\")\n",
        "  print(f\"\\tCountry: {country.title()}\")"
      ],
      "metadata": {
        "colab": {
          "base_uri": "https://localhost:8080/"
        },
        "id": "UXziv1PHgrRg",
        "outputId": "f4da397e-abbd-47c2-86a0-22b63c51eae9"
      },
      "execution_count": 41,
      "outputs": [
        {
          "output_type": "stream",
          "name": "stdout",
          "text": [
            "\n",
            "Username: aeinstein\n",
            "\tFull name: Albert Einstein\n",
            "\tLocation: Princton\n",
            "\tCountry: United States\n",
            "\n",
            "Username: mcurie\n",
            "\tFull name: Marie Curie\n",
            "\tLocation: Paris\n",
            "\tCountry: France\n"
          ]
        }
      ]
    }
  ]
}
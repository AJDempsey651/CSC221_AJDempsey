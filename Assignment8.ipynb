{
  "nbformat": 4,
  "nbformat_minor": 0,
  "metadata": {
    "colab": {
      "provenance": [],
      "authorship_tag": "ABX9TyN+lQaQXwImRrSO138tvCsl",
      "include_colab_link": true
    },
    "kernelspec": {
      "name": "python3",
      "display_name": "Python 3"
    },
    "language_info": {
      "name": "python"
    }
  },
  "cells": [
    {
      "cell_type": "markdown",
      "metadata": {
        "id": "view-in-github",
        "colab_type": "text"
      },
      "source": [
        "<a href=\"https://colab.research.google.com/github/AJDempsey651/CSC221_AJDempsey/blob/main/Assignment8.ipynb\" target=\"_parent\"><img src=\"https://colab.research.google.com/assets/colab-badge.svg\" alt=\"Open In Colab\"/></a>"
      ]
    },
    {
      "cell_type": "code",
      "execution_count": 2,
      "metadata": {
        "colab": {
          "base_uri": "https://localhost:8080/"
        },
        "id": "jwqPk7GdlkL6",
        "outputId": "de837153-96ef-485c-91a8-b77d83b77e41"
      },
      "outputs": [
        {
          "output_type": "stream",
          "name": "stdout",
          "text": [
            "Tell me something, and I will repeat it back to you: Hello\n",
            "Hello\n"
          ]
        }
      ],
      "source": [
        "message = input(\"Tell me something, and I will repeat it back to you: \")\n",
        "print(message)"
      ]
    },
    {
      "cell_type": "code",
      "source": [
        "name = input(\"Please enter your name: \")\n",
        "print(f\"\\nHello, {name}!\")"
      ],
      "metadata": {
        "colab": {
          "base_uri": "https://localhost:8080/"
        },
        "id": "M8cgladzmCdu",
        "outputId": "dfaf33be-13ad-4b78-8049-37ce656869ab"
      },
      "execution_count": 3,
      "outputs": [
        {
          "output_type": "stream",
          "name": "stdout",
          "text": [
            "Please enter your name: Adam\n",
            "\n",
            "Hello, Adam!\n"
          ]
        }
      ]
    },
    {
      "cell_type": "code",
      "source": [
        "prompt = \"If you share your name, we can personalize the messages you see.\"\n",
        "prompt += \"\\nWhat is your frist name? \"\n",
        "name = input(prompt)\n",
        "print(f\"\\nHello, {name}!\")"
      ],
      "metadata": {
        "colab": {
          "base_uri": "https://localhost:8080/"
        },
        "id": "n0DosG1imR9E",
        "outputId": "98676902-1666-4857-b7b8-81da2fdf80b0"
      },
      "execution_count": 4,
      "outputs": [
        {
          "output_type": "stream",
          "name": "stdout",
          "text": [
            "If you share your name, we can personalize the messages you see.\n",
            "What is your frist name? Adam\n",
            "\n",
            "Hello, Adam!\n"
          ]
        }
      ]
    },
    {
      "cell_type": "code",
      "source": [
        "prompt = \"What kind of rental car are you looking for? \"\n",
        "car = input(prompt)\n",
        "print(f\"\\nLet me see if I can find you a {car}.\")"
      ],
      "metadata": {
        "colab": {
          "base_uri": "https://localhost:8080/"
        },
        "id": "kd3a8cj-m2FF",
        "outputId": "9f67e111-e86b-4998-c4ae-3f89a88a844b"
      },
      "execution_count": 5,
      "outputs": [
        {
          "output_type": "stream",
          "name": "stdout",
          "text": [
            "What kind of rental car are you looking for? Mustang\n",
            "\n",
            "Let me see if I can find you a Mustang.\n"
          ]
        }
      ]
    },
    {
      "cell_type": "code",
      "source": [
        "number = input(\"Enter a number and I will tell you of it is a multiple of 10: \")\n",
        "number = int(number)\n",
        "\n",
        "if number % 10 == 0:\n",
        "  print(f\"\\n The number {number} is a multiple of ten.\")\n",
        "else:\n",
        "  print(f\"\\n The number {number} is not a multiple of ten.\")"
      ],
      "metadata": {
        "colab": {
          "base_uri": "https://localhost:8080/"
        },
        "id": "AoopcUZenSIR",
        "outputId": "f8a9d0f2-449e-4449-e359-563b06187879"
      },
      "execution_count": 9,
      "outputs": [
        {
          "output_type": "stream",
          "name": "stdout",
          "text": [
            "Enter a number and I will tell you of it is a multiple of 10: 20\n",
            "\n",
            " The number 20 is a multiple of ten.\n"
          ]
        }
      ]
    },
    {
      "cell_type": "code",
      "source": [
        "current_age = 0\n",
        "\n",
        "while current_age > -1:\n",
        "  age = input(\"Enter your age for your ticket cost. Enter -1 to exit program: \")\n",
        "  age = int(age)\n",
        "  current_age = age\n",
        "  if current_age < 3 and current_age >= 0:\n",
        "    print(\"Your ticket is free.\")\n",
        "  elif current_age >= 3 and current_age < 13:\n",
        "    print(\"Your ticket is $10.\")\n",
        "  elif current_age > 12:\n",
        "    print(\"Your ticket is $15.\")\n",
        "  else:\n",
        "    print(\"You have exited the program.\")"
      ],
      "metadata": {
        "colab": {
          "base_uri": "https://localhost:8080/"
        },
        "id": "OlyACvmnn9gc",
        "outputId": "151a57a6-f49e-4f7e-f5a7-be9738f1d8eb"
      },
      "execution_count": 13,
      "outputs": [
        {
          "output_type": "stream",
          "name": "stdout",
          "text": [
            "Enter your age for your ticket cost. Enter -1 to exit program: 3\n",
            "Your ticket is $10.\n",
            "Enter your age for your ticket cost. Enter -1 to exit program: 2\n",
            "Your ticket is free.\n",
            "Enter your age for your ticket cost. Enter -1 to exit program: 14\n",
            "Your ticket is $15.\n",
            "Enter your age for your ticket cost. Enter -1 to exit program: -1\n",
            "You have exited the program.\n"
          ]
        }
      ]
    },
    {
      "cell_type": "code",
      "source": [],
      "metadata": {
        "id": "xCGR9bmEqeAe"
      },
      "execution_count": null,
      "outputs": []
    },
    {
      "cell_type": "code",
      "source": [
        "current_age = 0\n",
        "\n",
        "while current_age > -1:\n",
        "  age = input(\"Enter your age for your ticket cost. Enter -1 to exit program: \")\n",
        "  age = int(age)\n",
        "  current_age = age\n",
        "  if current_age < 3 and current_age >= 0:\n",
        "    print(\"Your ticket is free.\")\n",
        "  elif current_age >= 3 and current_age < 13:\n",
        "    print(\"Your ticket is $10.\")\n",
        "  elif current_age > 12:\n",
        "    print(\"Your ticket is $15.\")\n",
        "  else:\n",
        "    break;"
      ],
      "metadata": {
        "colab": {
          "base_uri": "https://localhost:8080/"
        },
        "outputId": "50db393b-0253-4e06-a7d4-c6c87226c962",
        "id": "tKn9S48cqygS"
      },
      "execution_count": 14,
      "outputs": [
        {
          "name": "stdout",
          "output_type": "stream",
          "text": [
            "Enter your age for your ticket cost. Enter -1 to exit program: 2\n",
            "Your ticket is free.\n",
            "Enter your age for your ticket cost. Enter -1 to exit program: 3\n",
            "Your ticket is $10.\n",
            "Enter your age for your ticket cost. Enter -1 to exit program: 51\n",
            "Your ticket is $15.\n",
            "Enter your age for your ticket cost. Enter -1 to exit program: -1\n"
          ]
        }
      ]
    },
    {
      "cell_type": "code",
      "source": [
        "sandwich_orders = ['Turkey Club', 'Roast Beef Sandwich', 'Chicken Panini', 'Steak and Cheese Sub']\n",
        "finished_sandwiches = []\n",
        "print(\"Current Orders:\", sandwich_orders)\n",
        "while sandwich_orders != []:\n",
        "  current_sandwich = sandwich_orders[0]\n",
        "  print(\"Your \" + current_sandwich + \" is ready!\")\n",
        "  sandwich_orders.remove(current_sandwich)\n",
        "  finished_sandwiches.append(current_sandwich)\n",
        "  print(\"Current Orders:\", sandwich_orders)\n",
        "  print(\"Finished Orders:\", finished_sandwiches)"
      ],
      "metadata": {
        "colab": {
          "base_uri": "https://localhost:8080/"
        },
        "id": "0pA8MbEnq4aK",
        "outputId": "a7098cf9-9907-4025-adab-b07861b91b33"
      },
      "execution_count": 28,
      "outputs": [
        {
          "output_type": "stream",
          "name": "stdout",
          "text": [
            "Current Orders: ['Turkey Club', 'Roast Beef Sandwich', 'Chicken Panini', 'Steak and Cheese Sub']\n",
            "Your Turkey Club is ready!\n",
            "Current Orders: ['Roast Beef Sandwich', 'Chicken Panini', 'Steak and Cheese Sub']\n",
            "Finished Orders: ['Turkey Club']\n",
            "Your Roast Beef Sandwich is ready!\n",
            "Current Orders: ['Chicken Panini', 'Steak and Cheese Sub']\n",
            "Finished Orders: ['Turkey Club', 'Roast Beef Sandwich']\n",
            "Your Chicken Panini is ready!\n",
            "Current Orders: ['Steak and Cheese Sub']\n",
            "Finished Orders: ['Turkey Club', 'Roast Beef Sandwich', 'Chicken Panini']\n",
            "Your Steak and Cheese Sub is ready!\n",
            "Current Orders: []\n",
            "Finished Orders: ['Turkey Club', 'Roast Beef Sandwich', 'Chicken Panini', 'Steak and Cheese Sub']\n"
          ]
        }
      ]
    },
    {
      "cell_type": "code",
      "source": [
        "Current_number = 0\n",
        "active = True\n",
        "print(\"Type Stop to exit calculator\")\n",
        "while active == True:\n",
        "  print('Current Number: ', Current_number)\n",
        "  user_operator = input(\"Enter an operator: +, -, *, /: \")\n",
        "  if user_operator == 'Stop':\n",
        "    active = False\n",
        "    break;\n",
        "  user_number = int(input(\"Enter a number: \"))\n",
        "  if user_operator == '+':\n",
        "    Current_number = Current_number + user_number\n",
        "  if user_operator == '-':\n",
        "    Current_number = Current_number - user_number\n",
        "  if user_operator == '*':\n",
        "    Current_number = Current_number * user_number\n",
        "  if user_operator == '/':\n",
        "    Current_number = Current_number / user_number\n",
        ""
      ],
      "metadata": {
        "colab": {
          "base_uri": "https://localhost:8080/"
        },
        "id": "5h65NoIFuQQb",
        "outputId": "5d22afdc-72b0-4573-b971-260e5b7653c7"
      },
      "execution_count": 48,
      "outputs": [
        {
          "name": "stdout",
          "output_type": "stream",
          "text": [
            "Type Stop to exit calculator\n",
            "Current Number:  0\n",
            "Enter an operator: +, -, *, /: +\n",
            "Enter a number: 20\n",
            "Current Number:  20\n",
            "Enter an operator: +, -, *, /: -\n",
            "Enter a number: 5\n",
            "Current Number:  15\n",
            "Enter an operator: +, -, *, /: *\n",
            "Enter a number: 2\n",
            "Current Number:  30\n",
            "Enter an operator: +, -, *, /: /\n",
            "Enter a number: 10\n",
            "Current Number:  3.0\n",
            "Enter an operator: +, -, *, /: Stop\n"
          ]
        }
      ]
    }
  ]
}
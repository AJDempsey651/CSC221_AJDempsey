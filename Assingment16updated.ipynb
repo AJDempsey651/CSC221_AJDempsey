{
  "nbformat": 4,
  "nbformat_minor": 0,
  "metadata": {
    "colab": {
      "provenance": [],
      "authorship_tag": "ABX9TyP9XDphEbVxN8KQgR/Tm4bb",
      "include_colab_link": true
    },
    "kernelspec": {
      "name": "python3",
      "display_name": "Python 3"
    },
    "language_info": {
      "name": "python"
    }
  },
  "cells": [
    {
      "cell_type": "markdown",
      "metadata": {
        "id": "view-in-github",
        "colab_type": "text"
      },
      "source": [
        "<a href=\"https://colab.research.google.com/github/AJDempsey651/CSC221_AJDempsey/blob/main/Assingment16updated.ipynb\" target=\"_parent\"><img src=\"https://colab.research.google.com/assets/colab-badge.svg\" alt=\"Open In Colab\"/></a>"
      ]
    },
    {
      "cell_type": "code",
      "execution_count": null,
      "metadata": {
        "colab": {
          "base_uri": "https://localhost:8080/"
        },
        "id": "tLmA3_WVuPHK",
        "outputId": "fe91fc6f-df82-4776-cc3d-f9833d6a6999"
      },
      "outputs": [
        {
          "output_type": "stream",
          "name": "stdout",
          "text": [
            "Hello World\n"
          ]
        }
      ],
      "source": [
        "print(\"Hello World\")"
      ]
    },
    {
      "cell_type": "code",
      "source": [
        "6000 + 4523.50 + 134.25\n",
        "_ + 8192.75 # _ adds previous value to the new value which is 8192.75"
      ],
      "metadata": {
        "colab": {
          "base_uri": "https://localhost:8080/"
        },
        "id": "-K2l1kcHtsfX",
        "outputId": "b125640e-0c9f-43ae-fd19-551f2e5135bd"
      },
      "execution_count": 5,
      "outputs": [
        {
          "output_type": "execute_result",
          "data": {
            "text/plain": [
              "18850.5"
            ]
          },
          "metadata": {},
          "execution_count": 5
        }
      ]
    },
    {
      "cell_type": "markdown",
      "source": [
        "# hello.py\n",
        "print('Hello World')"
      ],
      "metadata": {
        "id": "JTwmNKimu3YR"
      }
    },
    {
      "cell_type": "markdown",
      "source": [
        "shell % python3 hello.py\n",
        "Hello World\n",
        "shell %\n",
        "\n"
      ],
      "metadata": {
        "id": "n9tkFzVovMy5"
      }
    },
    {
      "cell_type": "code",
      "source": [
        "# 42, 52, 60 = int\n",
        "#4.2, 1.6, 6.5 = float\n",
        "#'forty-two', 'twenty-seven' = str\n",
        "#True, False = bool"
      ],
      "metadata": {
        "id": "zDXn0XC4vEbC"
      },
      "execution_count": null,
      "outputs": []
    },
    {
      "cell_type": "code",
      "source": [
        "principal = 1000\n",
        "rate = 0.05\n",
        "numyears = 5\n",
        "year = 1\n",
        "while year <= numyears:\n",
        "  principal = principal * (1 + rate)\n",
        "  print(year, principal)\n",
        "  year += 1\n",
        "#shows value of principal's increase with the interest rate of 0.05 after 5 years"
      ],
      "metadata": {
        "colab": {
          "base_uri": "https://localhost:8080/"
        },
        "id": "HqDpjD4nvU4a",
        "outputId": "aa70de09-790c-4296-fc9f-84f634084307"
      },
      "execution_count": null,
      "outputs": [
        {
          "output_type": "stream",
          "name": "stdout",
          "text": [
            "1 1050.0\n",
            "2 1102.5\n",
            "3 1157.625\n",
            "4 1215.5062500000001\n",
            "5 1276.2815625000003\n"
          ]
        }
      ]
    },
    {
      "cell_type": "code",
      "source": [
        "a = 123_456_789\n",
        "print(a)\n",
        "'hello world'\n",
        "\"hello world\"\n",
        "\"\"\"hello\n",
        "world\"\"\""
      ],
      "metadata": {
        "colab": {
          "base_uri": "https://localhost:8080/",
          "height": 53
        },
        "id": "gYzwlrcCwMOs",
        "outputId": "5e912375-19c0-4fd1-bb7f-69bf348fcdb1"
      },
      "execution_count": null,
      "outputs": [
        {
          "output_type": "stream",
          "name": "stdout",
          "text": [
            "123456789\n"
          ]
        },
        {
          "output_type": "execute_result",
          "data": {
            "text/plain": [
              "'hello\\nworld'"
            ],
            "application/vnd.google.colaboratory.intrinsic+json": {
              "type": "string"
            }
          },
          "metadata": {},
          "execution_count": 6
        }
      ]
    },
    {
      "cell_type": "code",
      "source": [
        "#bash % python3 -m pip install somepackage --> installs a package you want to use with python like pytest\n",
        "#bash % ./myproject/bin/python3 -m pip install somepackage --> Installs python package you want to a specific place"
      ],
      "metadata": {
        "id": "_pT3X23muSbr"
      },
      "execution_count": null,
      "outputs": []
    }
  ]
}
{
  "nbformat": 4,
  "nbformat_minor": 0,
  "metadata": {
    "colab": {
      "provenance": [],
      "authorship_tag": "ABX9TyMFjxdALoHTHwdORi1l/HJc",
      "include_colab_link": true
    },
    "kernelspec": {
      "name": "python3",
      "display_name": "Python 3"
    },
    "language_info": {
      "name": "python"
    }
  },
  "cells": [
    {
      "cell_type": "markdown",
      "metadata": {
        "id": "view-in-github",
        "colab_type": "text"
      },
      "source": [
        "<a href=\"https://colab.research.google.com/github/AJDempsey651/CSC221_AJDempsey/blob/main/Week1A.ipynb\" target=\"_parent\"><img src=\"https://colab.research.google.com/assets/colab-badge.svg\" alt=\"Open In Colab\"/></a>"
      ]
    },
    {
      "cell_type": "code",
      "execution_count": 4,
      "metadata": {
        "colab": {
          "base_uri": "https://localhost:8080/"
        },
        "id": "X6qRc6bwU_Hx",
        "outputId": "1bbed7b8-015f-4fee-9a9e-6fbdc2469c2b"
      },
      "outputs": [
        {
          "output_type": "stream",
          "name": "stdout",
          "text": [
            "What is your name? Adam\n",
            "Bet you thought I was going to have my code print you name.\n",
            "Okay, I'll print your name this time. What is your name again? Billy\n",
            "Why did you change your name silly?\n"
          ]
        }
      ],
      "source": [
        "\n",
        "username = input(\"What is your name? \")\n",
        "print(\"Bet you thought I was going to have my code print you name.\")\n",
        "username2 = input(\"Okay, I'll print your name this time. What is your name again? \")\n",
        "if username != username2:\n",
        "  print(\"Why did you change your name silly?\")\n",
        "else:\n",
        "  print(\"Hello \" + username)\n"
      ]
    },
    {
      "cell_type": "code",
      "execution_count": null,
      "metadata": {
        "id": "m-aZt2EgW99J"
      },
      "outputs": [],
      "source": []
    }
  ]
}
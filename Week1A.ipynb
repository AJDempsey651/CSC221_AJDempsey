{
  "nbformat": 4,
  "nbformat_minor": 0,
  "metadata": {
    "colab": {
      "provenance": [],
      "authorship_tag": "ABX9TyMFjxdALoHTHwdORi1l/HJc",
      "include_colab_link": true
    },
    "kernelspec": {
      "name": "python3",
      "display_name": "Python 3"
    },
    "language_info": {
      "name": "python"
    }
  },
  "cells": [
    {
      "cell_type": "markdown",
      "metadata": {
        "id": "view-in-github",
        "colab_type": "text"
      },
      "source": [
        "<a href=\"https://colab.research.google.com/github/AJDempsey651/CSC221_AJDempsey/blob/main/Week1A.ipynb\" target=\"_parent\"><img src=\"https://colab.research.google.com/assets/colab-badge.svg\" alt=\"Open In Colab\"/></a>"
      ]
    },
    {
      "cell_type": "code",
      "execution_count": 3,
      "metadata": {
        "colab": {
          "base_uri": "https://localhost:8080/"
        },
        "id": "X6qRc6bwU_Hx",
        "outputId": "6b400e30-9a31-4be7-9fad-1bfd7cf9ae92"
      },
      "outputs": [
        {
          "output_type": "stream",
          "name": "stdout",
          "text": [
            "What is your name? Adam\n",
            "Bet you thought I was going to have my code print you name.\n",
            "Okay, I'll print your name this time. What is your name again? Adam\n",
            "Hello Adam\n"
          ]
        }
      ],
      "source": [
        "\n",
        "username = input(\"What is your name? \")\n",
        "print(\"Bet you thought I was going to have my code print you name.\")\n",
        "username2 = input(\"Okay, I'll print your name this time. What is your name again? \")\n",
        "if username != username2:\n",
        "  print(\"Why did you change your name silly?\")\n",
        "else:\n",
        "  print(\"Hello \" + username)\n"
      ]
    },
    {
      "cell_type": "code",
      "execution_count": null,
      "metadata": {
        "colab": {
          "base_uri": "https://localhost:8080/"
        },
        "outputId": "32fb9b59-7d8f-4dbe-d1c3-b342474c717b",
        "id": "m-aZt2EgW99J"
      },
      "outputs": [
        {
          "name": "stdout",
          "output_type": "stream",
          "text": [
            "What is your name? Adam\n",
            "Bet you thought I was going to have my code print you name.\n",
            "Okay, I'll print your name this time. What is your name again? Billy\n"
          ]
        }
      ],
      "source": []
    }
  ]
}
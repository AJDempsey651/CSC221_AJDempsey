{
  "nbformat": 4,
  "nbformat_minor": 0,
  "metadata": {
    "colab": {
      "provenance": [],
      "authorship_tag": "ABX9TyNEBWPlUydFbDmsVMQRID3s",
      "include_colab_link": true
    },
    "kernelspec": {
      "name": "python3",
      "display_name": "Python 3"
    },
    "language_info": {
      "name": "python"
    }
  },
  "cells": [
    {
      "cell_type": "markdown",
      "metadata": {
        "id": "view-in-github",
        "colab_type": "text"
      },
      "source": [
        "<a href=\"https://colab.research.google.com/github/AJDempsey651/CSC221_AJDempsey/blob/main/Assignment6.ipynb\" target=\"_parent\"><img src=\"https://colab.research.google.com/assets/colab-badge.svg\" alt=\"Open In Colab\"/></a>"
      ]
    },
    {
      "cell_type": "code",
      "execution_count": 2,
      "metadata": {
        "colab": {
          "base_uri": "https://localhost:8080/"
        },
        "id": "XGKW5OPkFMcG",
        "outputId": "3224544c-3a29-4c37-942f-dda430c0d9ac"
      },
      "outputs": [
        {
          "output_type": "stream",
          "name": "stdout",
          "text": [
            "country == 'Ireland' I predict True.\n",
            "True\n",
            "country === 'Austria-Hungary' I predict this will be false\n",
            "False\n"
          ]
        }
      ],
      "source": [
        "Country = 'Ireland'\n",
        "print(\"country == 'Ireland' I predict True.\")\n",
        "print(Country == 'Ireland')\n",
        "print(\"country === 'Austria-Hungary' I predict this will be false\")\n",
        "print(Country == 'Austria-Hungary')"
      ]
    },
    {
      "cell_type": "code",
      "source": [
        "Country = 'Ireland'\n",
        "print(\"country == 'Ireland' I predict True.\")\n",
        "print(Country == 'Ireland')\n",
        "print(\"country === 'Austria-Hungary' I predict this will be false\")\n",
        "print(Country == 'Austria-Hungary')\n",
        "print(Country == 'ireland')\n",
        "print(Country.lower() == 'ireland')\n",
        "number = 22\n",
        "print('Numerical Test')\n",
        "print(number == 22)\n",
        "print(number < 30)\n",
        "print(number > 30)\n",
        "print(number <= 20)\n",
        "print(number >= 20)\n",
        "print('and or test')\n",
        "print(number > 20 and number < 21)\n",
        "print(number == 22 or number > 30)\n",
        "print('Is an item in a list test or not')\n",
        "print('Ireland' in Country)\n",
        "print('USA' in Country)"
      ],
      "metadata": {
        "colab": {
          "base_uri": "https://localhost:8080/"
        },
        "id": "I-2pKWOgQlPh",
        "outputId": "487fc002-7606-4895-ccd0-0af6b918a68c"
      },
      "execution_count": 10,
      "outputs": [
        {
          "output_type": "stream",
          "name": "stdout",
          "text": [
            "country == 'Ireland' I predict True.\n",
            "True\n",
            "country === 'Austria-Hungary' I predict this will be false\n",
            "False\n",
            "False\n",
            "True\n",
            "Numerical Test\n",
            "True\n",
            "True\n",
            "False\n",
            "False\n",
            "True\n",
            "and or test\n",
            "False\n",
            "True\n",
            "Is an item in a list test\n",
            "True\n",
            "False\n"
          ]
        }
      ]
    },
    {
      "cell_type": "code",
      "source": [
        "alien_color = 'Green'\n",
        "if alien_color == 'Green':\n",
        "  print('The color is Green! You just earned 5 points!')\n",
        "else:\n",
        "  print('The color is not Green')\n",
        "if alien_color == 'red':\n",
        "  print('The color is red! You just earned 5 points!')"
      ],
      "metadata": {
        "colab": {
          "base_uri": "https://localhost:8080/"
        },
        "id": "sfYGW11VSblr",
        "outputId": "671d4e22-36e8-46d3-8b99-f7dc08571c7f"
      },
      "execution_count": 11,
      "outputs": [
        {
          "output_type": "stream",
          "name": "stdout",
          "text": [
            "The color is Green! You just earned 5 points!\n"
          ]
        }
      ]
    },
    {
      "cell_type": "code",
      "source": [
        "age = 22\n",
        "if age == 2:\n",
        "  print('The person is a baby.')\n",
        "elif age >= 2 and age < 4:\n",
        "  print('The person is a toddler.')\n",
        "elif age >= 4 and age < 13:\n",
        "  print('The person is a kid.')\n",
        "elif age >= 13 and age < 20:\n",
        "  print('The person is a teenager.')\n",
        "elif age >= 20 and age < 65:\n",
        "  print('The person is an adult.')\n",
        "else:\n",
        "  print('The person is an elder.')"
      ],
      "metadata": {
        "colab": {
          "base_uri": "https://localhost:8080/"
        },
        "id": "OxJNjq3TTOFx",
        "outputId": "c390ef42-f0d1-4c06-ef22-16dc4e10297a"
      },
      "execution_count": 12,
      "outputs": [
        {
          "output_type": "stream",
          "name": "stdout",
          "text": [
            "The person is an adult.\n"
          ]
        }
      ]
    },
    {
      "cell_type": "code",
      "source": [
        "print('For 5-13, the problem I decided to code was how to add, subtract, multiple or divide two numbers.')\n",
        "value1 = int(input('Enter a number: '))\n",
        "value2 = int(input('Enter another number: '))\n",
        "operator = input('Would you like to add, subtract, multiple or divide these numbers? ')\n",
        "\n",
        "if operator == 'add' or operator == 'Add':\n",
        "  print(value1 + value2)\n",
        "elif operator == 'subtract' or operator == 'Subtract':\n",
        "  print(value1 - value2)\n",
        "elif operator == 'multiple' or operator == 'Multiple':\n",
        "  print(value1 * value2)\n",
        "elif operator == 'divide' or operator == 'Divide':\n",
        "  print(value1 / value2)\n",
        "else:\n",
        "  print(\"I'm sorry, the operator you chose was invalid.\")\n"
      ],
      "metadata": {
        "colab": {
          "base_uri": "https://localhost:8080/"
        },
        "id": "L2_lHtdBUjnb",
        "outputId": "9df47a3e-540c-4da6-afa1-81a9c92b3e7d"
      },
      "execution_count": 13,
      "outputs": [
        {
          "output_type": "stream",
          "name": "stdout",
          "text": [
            "Enter a number: 5\n",
            "Enter another number: 5\n",
            "Would you like to add, subtract, multiple or divide these numbers? add\n",
            "10\n"
          ]
        }
      ]
    }
  ]
}
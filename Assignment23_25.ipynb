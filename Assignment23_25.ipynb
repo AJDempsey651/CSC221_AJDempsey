{
  "nbformat": 4,
  "nbformat_minor": 0,
  "metadata": {
    "colab": {
      "provenance": [],
      "authorship_tag": "ABX9TyNS9TPAlebG/eSQH6voZF6m",
      "include_colab_link": true
    },
    "kernelspec": {
      "name": "python3",
      "display_name": "Python 3"
    },
    "language_info": {
      "name": "python"
    }
  },
  "cells": [
    {
      "cell_type": "markdown",
      "metadata": {
        "id": "view-in-github",
        "colab_type": "text"
      },
      "source": [
        "<a href=\"https://colab.research.google.com/github/AJDempsey651/CSC221_AJDempsey/blob/main/Assignment23_25.ipynb\" target=\"_parent\"><img src=\"https://colab.research.google.com/assets/colab-badge.svg\" alt=\"Open In Colab\"/></a>"
      ]
    },
    {
      "cell_type": "code",
      "execution_count": 59,
      "metadata": {
        "colab": {
          "base_uri": "https://localhost:8080/"
        },
        "id": "al4p8n6b6BQe",
        "outputId": "7346ac51-abaa-4cc5-cddc-8b6c1189fa3a"
      },
      "outputs": [
        {
          "output_type": "stream",
          "name": "stdout",
          "text": [
            "('Adam', 'is', 22)\n",
            "('Emma', 'is', 29)\n",
            "('Jill', 'is', 27)\n"
          ]
        }
      ],
      "source": [
        "def NameAndAge(name, age):\n",
        "  print(name, \"is\", age)\n",
        "\n",
        "NameAndAge(\"Adam\", 22)\n",
        "NameAndAge(\"Emma\", 29)\n",
        "NameAndAge(\"Jill\", 27)\n"
      ]
    },
    {
      "cell_type": "code",
      "source": [
        "def product(firstvalue, *followingvalues):\n",
        "  for x in followingvalues:\n",
        "    firstvalue = firstvalue * x\n",
        "  return firstvalue\n",
        "\n",
        "product(2, 5, 2)\n"
      ],
      "metadata": {
        "colab": {
          "base_uri": "https://localhost:8080/"
        },
        "id": "tvf32tX87B6v",
        "outputId": "70b27989-d17a-4cef-8aa7-708d2c6f6fb3"
      },
      "execution_count": 9,
      "outputs": [
        {
          "output_type": "execute_result",
          "data": {
            "text/plain": [
              "20"
            ]
          },
          "metadata": {},
          "execution_count": 9
        }
      ]
    },
    {
      "cell_type": "code",
      "source": [
        "def product(firstvalue, *followingvalues, lastvalue=2):\n",
        "  for x in followingvalues:\n",
        "    firstvalue = firstvalue * x\n",
        "  firstvalue = firstvalue * lastvalue\n",
        "  return firstvalue\n",
        "\n",
        "product(2, 5, 5)\n"
      ],
      "metadata": {
        "colab": {
          "base_uri": "https://localhost:8080/"
        },
        "id": "24ZCGQuI8Z0w",
        "outputId": "4dbe3b51-ea75-4b87-96ab-af044751ddf5"
      },
      "execution_count": 13,
      "outputs": [
        {
          "output_type": "execute_result",
          "data": {
            "text/plain": [
              "100"
            ]
          },
          "metadata": {},
          "execution_count": 13
        }
      ]
    },
    {
      "cell_type": "code",
      "source": [
        "def AddOrSubtract(firstvalue, *values, operator=\"+\"):\n",
        "  if operator == \"+\":\n",
        "    result = firstvalue\n",
        "    for x in values:\n",
        "      result = result + x\n",
        "    return result\n",
        "  elif operator == \"-\":\n",
        "    result = firstvalue\n",
        "    for x in values:\n",
        "      result = result - x\n",
        "  return result\n",
        "\n",
        "AddOrSubtract(5, 5, 5, 5)\n",
        "AddOrSubtract(10, 5, 3, 1, operator=\"-\")"
      ],
      "metadata": {
        "colab": {
          "base_uri": "https://localhost:8080/"
        },
        "id": "mRzPdyY29zR9",
        "outputId": "776f1c03-331a-4396-82b5-7b8e8e9679eb"
      },
      "execution_count": 29,
      "outputs": [
        {
          "output_type": "execute_result",
          "data": {
            "text/plain": [
              "1"
            ]
          },
          "metadata": {},
          "execution_count": 29
        }
      ]
    },
    {
      "cell_type": "code",
      "source": [
        "operator = \"+\"\n",
        "\n",
        "def calculator(firstvalue, *values):\n",
        "  newoperator = input(\"What operator would you like to use? \")\n",
        "  operator = newoperator\n",
        "  result = firstvalue\n",
        "  if operator == \"+\":\n",
        "    for x in values:\n",
        "      result = result + x\n",
        "    return result\n",
        "  elif operator == \"-\":\n",
        "    for x in values:\n",
        "      result = result - x\n",
        "    return result\n",
        "  elif operator == \"*\":\n",
        "    for x in values:\n",
        "      result = result * x\n",
        "    return result\n",
        "  elif operator == \"/\":\n",
        "    for x in values:\n",
        "      result = result / x\n",
        "    return result\n",
        "  else:\n",
        "    print(\"That is not a valid operator!\")\n",
        "\n",
        "calculator(5, 5, 5)"
      ],
      "metadata": {
        "colab": {
          "base_uri": "https://localhost:8080/"
        },
        "id": "jiO3lVEdAMrX",
        "outputId": "b703d155-37ac-4f02-875d-7911e34fe732"
      },
      "execution_count": 89,
      "outputs": [
        {
          "name": "stdout",
          "output_type": "stream",
          "text": [
            "What operator would you like to use? +\n"
          ]
        },
        {
          "output_type": "execute_result",
          "data": {
            "text/plain": [
              "15"
            ]
          },
          "metadata": {},
          "execution_count": 89
        }
      ]
    },
    {
      "cell_type": "code",
      "source": [
        "word_list = ['apple', 'orange', 'banana']\n",
        "sorted(word_list,\n",
        "  key=lambda word: sum(ch in 'aeiou' for ch in word),\n",
        "  reverse=True)"
      ],
      "metadata": {
        "colab": {
          "base_uri": "https://localhost:8080/"
        },
        "id": "0mp9nzzmGecc",
        "outputId": "94987af5-bb75-440d-9c4e-8fd73bdd1b10"
      },
      "execution_count": 39,
      "outputs": [
        {
          "output_type": "execute_result",
          "data": {
            "text/plain": [
              "['orange', 'banana', 'apple']"
            ]
          },
          "metadata": {},
          "execution_count": 39
        }
      ]
    },
    {
      "cell_type": "code",
      "source": [
        "def logger(func):\n",
        "  file = open('log.txt', 'a')\n",
        "  file.write(func)\n",
        "\n",
        "@logger\n",
        "def NameAndAge(name, age):\n",
        "  print(name, \"is\", age)"
      ],
      "metadata": {
        "id": "OiUKbrR2GqFT"
      },
      "execution_count": null,
      "outputs": []
    },
    {
      "cell_type": "code",
      "source": [
        "from functools import reduce\n",
        "def square(x):\n",
        "  return x * x\n",
        "nums = [1, 2, 3, 4, 5]\n",
        "squares = map(lambda x: x*x, nums)\n",
        "for n in squares:\n",
        "  print(n)\n",
        "for n in filter(lambda x: x > 2, nums):\n",
        "  print(n)\n",
        "nums = [1, 2, 3, 4, 5]\n",
        "total = reduce(lambda x, y: x + y, nums)\n",
        "product = reduce(lambda x, y: x * y, nums, 1)\n",
        "print(total)\n",
        "print(product)\n",
        "\n",
        "\n"
      ],
      "metadata": {
        "colab": {
          "base_uri": "https://localhost:8080/"
        },
        "id": "kvwqkd_tUofr",
        "outputId": "28817cd5-51de-4d31-d5ee-d335439f53de"
      },
      "execution_count": 72,
      "outputs": [
        {
          "output_type": "stream",
          "name": "stdout",
          "text": [
            "1\n",
            "4\n",
            "9\n",
            "16\n",
            "25\n",
            "3\n",
            "4\n",
            "5\n",
            "15\n",
            "120\n"
          ]
        }
      ]
    },
    {
      "cell_type": "code",
      "source": [
        "import operator\n",
        "from math import *\n",
        "globals = {\"+\": operator.add, \"-\": operator.sub, \"*\": operator.mul, \"/\": operator.truediv}\n",
        "def calculator():\n",
        "  expression = input(\"Enter an equation: \")\n",
        "  exec(expression, globals)\n",
        "  print(expression)\n",
        "\n",
        "calculator()"
      ],
      "metadata": {
        "colab": {
          "base_uri": "https://localhost:8080/"
        },
        "id": "UjUxhPsbVpzO",
        "outputId": "9d7d497d-e24d-43a5-9293-590523d45960"
      },
      "execution_count": 5,
      "outputs": [
        {
          "output_type": "stream",
          "name": "stdout",
          "text": [
            "Enter an equation: 5 + 5\n",
            "5 + 5\n"
          ]
        }
      ]
    },
    {
      "cell_type": "code",
      "source": [
        "import operator\n",
        "Active = True\n",
        "globals = {\"+\": operator.add, \"-\": operator.sub, \"*\": operator.mul, \"/\": operator.truediv}\n",
        "while Active == True:\n",
        "  expression = input(\"Enter an Expression: \")\n",
        "  if expression == \"Exit\":\n",
        "    break;\n",
        "  exec(expression)\n",
        "  print(expression)"
      ],
      "metadata": {
        "colab": {
          "base_uri": "https://localhost:8080/"
        },
        "id": "UEoZ0saTet0M",
        "outputId": "8a032463-dcd9-4142-cb78-7fc746e3a509"
      },
      "execution_count": 15,
      "outputs": [
        {
          "name": "stdout",
          "output_type": "stream",
          "text": [
            "Enter an Expression: 5 + 5\n",
            "5 + 5\n",
            "Enter an Expression: Exit\n"
          ]
        }
      ]
    }
  ]
}
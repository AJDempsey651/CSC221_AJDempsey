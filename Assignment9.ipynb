{
  "nbformat": 4,
  "nbformat_minor": 0,
  "metadata": {
    "colab": {
      "provenance": [],
      "authorship_tag": "ABX9TyOgwI42lvT7D55dWHfM8Uo1",
      "include_colab_link": true
    },
    "kernelspec": {
      "name": "python3",
      "display_name": "Python 3"
    },
    "language_info": {
      "name": "python"
    }
  },
  "cells": [
    {
      "cell_type": "markdown",
      "metadata": {
        "id": "view-in-github",
        "colab_type": "text"
      },
      "source": [
        "<a href=\"https://colab.research.google.com/github/AJDempsey651/CSC221_AJDempsey/blob/main/Assignment9.ipynb\" target=\"_parent\"><img src=\"https://colab.research.google.com/assets/colab-badge.svg\" alt=\"Open In Colab\"/></a>"
      ]
    },
    {
      "cell_type": "code",
      "execution_count": 1,
      "metadata": {
        "colab": {
          "base_uri": "https://localhost:8080/"
        },
        "id": "CE0j6bC_5Mg8",
        "outputId": "b7f793e5-553a-4891-f0fc-3408eecfa9b2"
      },
      "outputs": [
        {
          "output_type": "stream",
          "name": "stdout",
          "text": [
            "One of my favorite books is A Game Of Thrones!\n"
          ]
        }
      ],
      "source": [
        "def favorite_book(book):\n",
        "  print(f\"One of my favorite books is {book.title()}!\")\n",
        "\n",
        "favorite_book('A Game of Thrones')"
      ]
    },
    {
      "cell_type": "code",
      "source": [
        "def make_shirt(size, message):\n",
        "  print(f\"The size of the shirt will be {size.title()} and the message printed on the shirt will say {message.title()}.\")\n",
        "\n",
        "make_shirt(\"medium\", \"Thats what I do, I drink and I know things\")\n",
        "make_shirt(size = \"medium\", message = \"Thats what I do, I drink and I know things\" )"
      ],
      "metadata": {
        "colab": {
          "base_uri": "https://localhost:8080/"
        },
        "id": "9RZRz2Gk6OGO",
        "outputId": "e7b2c58d-5213-4f14-8d4e-96529de8f7af"
      },
      "execution_count": 6,
      "outputs": [
        {
          "output_type": "stream",
          "name": "stdout",
          "text": [
            "The size of the shirt will be Medium and the message printed on the shirt will say Thats What I Do, I Drink And I Know Things.\n",
            "The size of the shirt will be Medium and the message printed on the shirt will say Thats What I Do, I Drink And I Know Things.\n"
          ]
        }
      ]
    },
    {
      "cell_type": "code",
      "source": [
        "def make_shirt(size = 'Large', message = \"I Love Python\"):\n",
        "  print(f\"The size of the shirt will be {size.title()} and the message printed on the shirt will say {message.title()}.\")\n",
        "\n",
        "make_shirt()\n",
        "make_shirt(size = 'Medium')\n",
        "make_shirt(size = 'Small', message = 'Winter is Coming')"
      ],
      "metadata": {
        "colab": {
          "base_uri": "https://localhost:8080/"
        },
        "outputId": "2ecab1b7-8f37-4ef1-bcb0-594cf1b9f647",
        "id": "gxnLobHY8Q3M"
      },
      "execution_count": 8,
      "outputs": [
        {
          "output_type": "stream",
          "name": "stdout",
          "text": [
            "The size of the shirt will be Large and the message printed on the shirt will say I Love Python.\n",
            "The size of the shirt will be Medium and the message printed on the shirt will say I Love Python.\n",
            "The size of the shirt will be Small and the message printed on the shirt will say Winter Is Coming.\n"
          ]
        }
      ]
    },
    {
      "cell_type": "code",
      "source": [
        "def make_car(make, model, **build_car):\n",
        "  build_car['make'] = make\n",
        "  build_car['model'] = model\n",
        "  return build_car\n",
        "car = make_car('honda', 'accord',\n",
        "                       color='blue',\n",
        "                       V6=True)\n",
        "print(car)"
      ],
      "metadata": {
        "colab": {
          "base_uri": "https://localhost:8080/"
        },
        "id": "ZVM7Ixqj9O6S",
        "outputId": "b8c27e84-0d88-4f44-a526-9b83ac68b832"
      },
      "execution_count": 16,
      "outputs": [
        {
          "output_type": "stream",
          "name": "stdout",
          "text": [
            "{'color': 'blue', 'V6': True, 'make': 'honda', 'model': 'accord'}\n"
          ]
        }
      ]
    },
    {
      "cell_type": "code",
      "source": [
        "import unittest"
      ],
      "metadata": {
        "id": "3nL0TXB5BrfA"
      },
      "execution_count": null,
      "outputs": []
    },
    {
      "cell_type": "code",
      "source": [
        "class NumbersFunction:\n",
        "  def numbers(a, b = 3.14):\n",
        "    numbers_list = [a, b]\n",
        "    print(a + b)\n",
        "    x = sorted(numbers_list)\n",
        "    print(x)\n",
        "  numbers(5)\n"
      ],
      "metadata": {
        "colab": {
          "base_uri": "https://localhost:8080/"
        },
        "id": "ClR9Y_jq_I6p",
        "outputId": "9e83eb7f-4cdc-42ef-a517-d9ceead53724"
      },
      "execution_count": 21,
      "outputs": [
        {
          "output_type": "stream",
          "name": "stdout",
          "text": [
            "8.14\n",
            "[3.14, 5]\n"
          ]
        }
      ]
    },
    {
      "cell_type": "code",
      "source": [
        "class NumbersFunction:\n",
        "  def numbers(a, b = 3.14, verbose = True):\n",
        "    if verbose == True:\n",
        "      numbers_list = [a, b]\n",
        "      print(a + b)\n",
        "      x = sorted(numbers_list)\n",
        "      print(x)\n",
        "  numbers(5)\n"
      ],
      "metadata": {
        "colab": {
          "base_uri": "https://localhost:8080/"
        },
        "outputId": "e955b028-094e-4b3f-d169-986fb2750d86",
        "id": "5hZpndOhDHfn"
      },
      "execution_count": 33,
      "outputs": [
        {
          "output_type": "stream",
          "name": "stdout",
          "text": [
            "8.14\n",
            "[3.14, 5]\n"
          ]
        }
      ]
    }
  ]
}
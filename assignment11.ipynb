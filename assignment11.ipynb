{
  "nbformat": 4,
  "nbformat_minor": 0,
  "metadata": {
    "colab": {
      "provenance": [],
      "authorship_tag": "ABX9TyO46csmbp0qElZR9SVm4guJ",
      "include_colab_link": true
    },
    "kernelspec": {
      "name": "python3",
      "display_name": "Python 3"
    },
    "language_info": {
      "name": "python"
    }
  },
  "cells": [
    {
      "cell_type": "markdown",
      "metadata": {
        "id": "view-in-github",
        "colab_type": "text"
      },
      "source": [
        "<a href=\"https://colab.research.google.com/github/AJDempsey651/CSC221_AJDempsey/blob/main/assignment11.ipynb\" target=\"_parent\"><img src=\"https://colab.research.google.com/assets/colab-badge.svg\" alt=\"Open In Colab\"/></a>"
      ]
    },
    {
      "cell_type": "code",
      "execution_count": 3,
      "metadata": {
        "colab": {
          "base_uri": "https://localhost:8080/"
        },
        "id": "v-pZvT9AwA2T",
        "outputId": "70baf42f-4c4d-4504-8dbf-0923e8e7f582"
      },
      "outputs": [
        {
          "output_type": "stream",
          "name": "stdout",
          "text": [
            "My dog's name is Willie\n",
            "My dog is 6 years old.\n",
            "Willie is now sitting.\n",
            "Willie rolled over!\n",
            "\n",
            "Your dog's name is Lucy.\n",
            "Your dog is 3 years old.\n",
            "Lucy is now sitting.\n"
          ]
        }
      ],
      "source": [
        "class Dog:\n",
        "  \"\"\"A simple attempt to model a dog\"\"\"\n",
        "\n",
        "  def __init__(self, name, age):\n",
        "    \"\"\"Initialize name and age attributes\"\"\"\n",
        "    self.name = name\n",
        "    self.age = age\n",
        "\n",
        "  def sit(self):\n",
        "    \"\"\"Simulate a dog sitting in response to a command\"\"\"\n",
        "    print(f\"{self.name} is now sitting.\")\n",
        "\n",
        "  def roll_over(self):\n",
        "    \"\"\"Simulate rolling over in response to a command\"\"\"\n",
        "    print(f\"{self.name} rolled over!\")\n",
        "\n",
        "my_dog = Dog('Willie', 6)\n",
        "print(f\"My dog's name is {my_dog.name}\")\n",
        "print(f\"My dog is {my_dog.age} years old.\")\n",
        "\n",
        "my_dog.sit()\n",
        "my_dog.roll_over()\n",
        "\n",
        "your_dog = Dog('Lucy', 3)\n",
        "print(f\"\\nYour dog's name is {your_dog.name}.\")\n",
        "print(f\"Your dog is {your_dog.age} years old.\")\n",
        "your_dog.sit()"
      ]
    },
    {
      "cell_type": "code",
      "source": [
        "class Restaurant:\n",
        "\n",
        "  def __init__(self, restaurant_name, cuisine_type):\n",
        "    self.restaurant_name = restaurant_name\n",
        "    self.cuisine_type = cuisine_type\n",
        "\n",
        "  def describe_restaurant(self):\n",
        "    print(f\"The restaurants name is {self.restaurant_name}.\")\n",
        "    print(f\"This restaurant serves {self.cuisine_type}.\")\n",
        "\n",
        "  def open_restaurant(self):\n",
        "    print(f\"{self.restaurant_name} is open.\")\n",
        "\n",
        "class IceCreamStand(Restaurant):\n",
        "  def __init__(self, restaurant_name, cuisine_type):\n",
        "    super().__init__(restaurant_name, cuisine_type)\n",
        "    self.flavors = flavors = ['chocolate', 'vanilla', 'strawberry', 'mint chocolate chip']\n",
        "\n",
        "  def display_flavors(self):\n",
        "    print(f\"Flavors: {self.flavors}\")\n",
        "\n",
        "this_restaurant = Restaurant('Jumboland Diner', 'Diner food')\n",
        "print(f\"The restaurants name is {this_restaurant.restaurant_name}.\")\n",
        "print(f\"This restaurant serves {this_restaurant.cuisine_type}\")\n",
        "this_restaurant.describe_restaurant()\n",
        "this_restaurant.open_restaurant()\n",
        "\n",
        "my_restaurant1 = Restaurant('Chatterbox', 'American food')\n",
        "my_restaurant2 = Restaurant('China One', 'Chinese food')\n",
        "my_restaurant3 = Restaurant('The Boat House', 'Seafood')\n",
        "my_restaurant1.describe_restaurant()\n",
        "my_restaurant2.describe_restaurant()\n",
        "my_restaurant3.describe_restaurant()\n",
        "\n",
        "my_restaurant4 = IceCreamStand('ColdStone', 'Ice-Cream')\n",
        "my_restaurant4.display_flavors()"
      ],
      "metadata": {
        "colab": {
          "base_uri": "https://localhost:8080/"
        },
        "id": "Ol-R5t-VzZZK",
        "outputId": "1426ff80-74bc-4b06-fd41-6e4d066342e9"
      },
      "execution_count": 24,
      "outputs": [
        {
          "output_type": "stream",
          "name": "stdout",
          "text": [
            "The restaurants name is Jumboland Diner.\n",
            "This restaurant serves Diner food\n",
            "The restaurants name is Jumboland Diner.\n",
            "This restaurant serves Diner food.\n",
            "Jumboland Diner is open.\n",
            "The restaurants name is Chatterbox.\n",
            "This restaurant serves American food.\n",
            "The restaurants name is China One.\n",
            "This restaurant serves Chinese food.\n",
            "The restaurants name is The Boat House.\n",
            "This restaurant serves Seafood.\n",
            "Flavors: ['chocolate', 'vanilla', 'strawberry', 'mint chocolate chip']\n"
          ]
        }
      ]
    },
    {
      "cell_type": "code",
      "source": [
        "class User:\n",
        "  def __init__(self, first_name, last_name, location, username):\n",
        "    self.first_name = first_name\n",
        "    self.last_name = last_name\n",
        "    self.location = location\n",
        "    self.username = username\n",
        "\n",
        "  def describe_user(self):\n",
        "    print(f\"First Name: {self.first_name}\\nLast Name: {self.last_name}\\nLocation: {self.location}\\nUsername: {self.username}\")\n",
        "\n",
        "  def greet_user(self):\n",
        "    print(f\"Hello, {self.first_name} {self.last_name}, welcome to the website.\")\n",
        "\n",
        "class Admin(User):\n",
        "  def __init__(self, first_name, last_name, location, username):\n",
        "    super().__init__(first_name, last_name, location, username)\n",
        "    self.privleges = privilegs = ['Can add post', 'Can ban user', 'Can delete post']\n",
        "\n",
        "  def show_privileges(self):\n",
        "    print(f\"These are {self.username}'s privileges: {self.privleges}\")\n",
        "\n",
        "user1 = User('Joe', 'Smith', 'Chicago', 'Joe1')\n",
        "user2 = User('Alex', 'Welsh', 'New York', 'Welsh123')\n",
        "user3 = User('Amy', 'White', 'Houston', 'AmyW')\n",
        "\n",
        "user1.describe_user()\n",
        "user1.greet_user()\n",
        "user2.describe_user()\n",
        "user2.greet_user()\n",
        "user3.describe_user()\n",
        "user3.greet_user()\n",
        "\n",
        "user4 = Admin('John', 'Hughes', 'New York', 'JHughes5')\n",
        "user4.show_privileges()"
      ],
      "metadata": {
        "colab": {
          "base_uri": "https://localhost:8080/"
        },
        "id": "LEJR8j4X18l0",
        "outputId": "d897207f-6b97-457a-85ae-9dd513398959"
      },
      "execution_count": 25,
      "outputs": [
        {
          "output_type": "stream",
          "name": "stdout",
          "text": [
            "First Name: Joe\n",
            "Last Name: Smith\n",
            "Location: Chicago\n",
            "Username: Joe1\n",
            "Hello, Joe Smith, welcome to the website.\n",
            "First Name: Alex\n",
            "Last Name: Welsh\n",
            "Location: New York\n",
            "Username: Welsh123\n",
            "Hello, Alex Welsh, welcome to the website.\n",
            "First Name: Amy\n",
            "Last Name: White\n",
            "Location: Houston\n",
            "Username: AmyW\n",
            "Hello, Amy White, welcome to the website.\n",
            "These are JHughes5's privileges: ['Can add post', 'Can ban user', 'Can delete post']\n"
          ]
        }
      ]
    },
    {
      "cell_type": "code",
      "source": [
        "class Car:\n",
        "\n",
        "  def __init__(self, make, model, year):\n",
        "    self.make = make\n",
        "    self.model = model\n",
        "    self.year = year\n",
        "    self.odometer_reading = 0\n",
        "\n",
        "  def get_descriptive_name(self):\n",
        "    long_name = f\"{self.year} {self.make} {self.model}\"\n",
        "    return long_name.title()\n",
        "\n",
        "  def read_odometer(self):\n",
        "    print(f\"This car has {self.odometer_reading} miles on it.\")\n",
        "\n",
        "  def update_odometer(self, milage):\n",
        "    if milage >= self.odometer_reading:\n",
        "      self.odometer_reading = milage\n",
        "    else:\n",
        "      print(\"You can't roll back on an odometer!\")\n",
        "\n",
        "  def increment_odometer(self, miles):\n",
        "    self.odometer_reading += miles\n",
        "\n",
        "class Battery:\n",
        "\n",
        "  def __init__(self, battery_size=40):\n",
        "    self.battery_size = battery_size\n",
        "\n",
        "  def get_range(self):\n",
        "    if self.battery_size == 40:\n",
        "      range = 150\n",
        "    elif self.battery_size == 65:\n",
        "      range = 225\n",
        "    print(f\"This car can go about {range} miles on a full charge.\")\n",
        "\n",
        "  def describe_battery(self):\n",
        "    print(f\"This car has a {self.battery_size}-kWh battery\")\n",
        "\n",
        "class ElectricCar(Car):\n",
        "\n",
        "  def __init__(self, make, model, year):\n",
        "    super().__init__(make, model, year)\n",
        "    self.battery = Battery()\n",
        "\n",
        "  def fill_gas_tank(self):\n",
        "    print(\"This car doesn't have a gas tank!\")\n",
        "\n",
        "\n",
        "\n",
        "my_new_car = Car('audi', 'a4', 2024)\n",
        "print(my_new_car.get_descriptive_name())\n",
        "my_new_car.update_odometer(23)\n",
        "my_new_car.read_odometer()\n",
        "\n",
        "my_used_car = Car('subaru', 'outback', 2019)\n",
        "print(my_used_car.get_descriptive_name())\n",
        "my_used_car.update_odometer(23_500)\n",
        "my_used_car.read_odometer()\n",
        "my_used_car.increment_odometer(100)\n",
        "my_used_car.read_odometer()\n",
        "\n",
        "my_leaf = ElectricCar('nissian', 'leaf', 2024)\n",
        "print(my_leaf.get_descriptive_name())\n",
        "my_leaf.battery.describe_battery()\n",
        "my_leaf.battery.get_range()"
      ],
      "metadata": {
        "colab": {
          "base_uri": "https://localhost:8080/"
        },
        "id": "tSpyQAcf3vs8",
        "outputId": "094159ad-283f-43a5-a579-c40c3527edc5"
      },
      "execution_count": 21,
      "outputs": [
        {
          "output_type": "stream",
          "name": "stdout",
          "text": [
            "2024 Audi A4\n",
            "This car has 23 miles on it.\n",
            "2019 Subaru Outback\n",
            "This car has 23500 miles on it.\n",
            "This car has 23600 miles on it.\n",
            "2024 Nissian Leaf\n",
            "This car has a 40-kWh battery\n",
            "This car can go about 150 miles on a full charge.\n"
          ]
        }
      ]
    }
  ]
}
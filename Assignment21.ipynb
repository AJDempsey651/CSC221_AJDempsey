{
  "nbformat": 4,
  "nbformat_minor": 0,
  "metadata": {
    "colab": {
      "provenance": [],
      "include_colab_link": true
    },
    "kernelspec": {
      "name": "python3",
      "display_name": "Python 3"
    },
    "language_info": {
      "name": "python"
    }
  },
  "cells": [
    {
      "cell_type": "markdown",
      "metadata": {
        "id": "view-in-github",
        "colab_type": "text"
      },
      "source": [
        "<a href=\"https://colab.research.google.com/github/AJDempsey651/CSC221_AJDempsey/blob/main/Assignment21.ipynb\" target=\"_parent\"><img src=\"https://colab.research.google.com/assets/colab-badge.svg\" alt=\"Open In Colab\"/></a>"
      ]
    },
    {
      "cell_type": "markdown",
      "source": [
        "# Assignment 21\n",
        "## CSC 221\n",
        "- PLEASE INSERT YOUR NAME HERE!\n",
        "\n",
        "### Instructions:\n",
        "Fill in each code cell below the question. We are following along in Chapter 4 of Python Distilled."
      ],
      "metadata": {
        "id": "IAOUzGWE1eDx"
      }
    },
    {
      "cell_type": "code",
      "execution_count": 13,
      "metadata": {
        "id": "Gnj3su7i5-lx",
        "colab": {
          "base_uri": "https://localhost:8080/"
        },
        "outputId": "03ca6fc3-9c45-470e-af42-96464e4ef979"
      },
      "outputs": [
        {
          "output_type": "stream",
          "name": "stdout",
          "text": [
            "35\n",
            "Hello, World!\n",
            "Hello, 123\n"
          ]
        }
      ],
      "source": [
        "# 4.2 Object Identity and Type\n",
        "\n",
        "# Make a function that performs differently depending on the types of its inputs\n",
        "# cat(a, b) below will work if you pass in two numbers or two strings\n",
        "# Use isinstance to detect when you are getting a string and an int and\n",
        "# automatically convert the int to a string and return the string!\n",
        "\n",
        "def cat(a, b):\n",
        "  if isinstance(a, int):\n",
        "    a = str(a)\n",
        "    if isinstance(b, int):\n",
        "      b = str(b)\n",
        "      return a + b\n",
        "  if isinstance(a, str):\n",
        "    if isinstance(b, int):\n",
        "      b = str(b)\n",
        "      return a + b\n",
        "  if isinstance(a, str):\n",
        "    if isinstance(b, str):\n",
        "      return a + b\n",
        "\n",
        "print(cat(3, 5))\n",
        "print(cat(\"Hello, \", \"World!\"))\n",
        "print(cat(\"Hello, \", 123))  # FAILS: Should return 'Hello, 123'\n",
        "\n",
        "# INSERT YOUR CODE HERE\n"
      ]
    },
    {
      "cell_type": "code",
      "source": [
        "# Explain the output of the following code\n",
        "import sys\n",
        "\n",
        "class EmptyClass:\n",
        "    def __init__(self):\n",
        "        print('init')\n",
        "    def __del__(self):\n",
        "        print('del')\n",
        "\n",
        "def print_refcount(x):\n",
        "    print(sys.getrefcount(x))\n",
        "\n",
        "f1 = EmptyClass()\n",
        "print_refcount(f1)\n",
        "f2 = f1\n",
        "print_refcount(f1)\n",
        "f3 = f1\n",
        "print_refcount(f1)\n",
        "\n",
        "del f1\n",
        "print_refcount(f3)\n",
        "del f2\n",
        "print_refcount(f3)\n",
        "del f3\n",
        "\n",
        "# INSERT YOUR EXPLANATION HERE\n",
        "# the code creates an empty class and then prints out the reference count each time after setting the empty class to a new value. Once the values start being deleted the reference count goes down.\n"
      ],
      "metadata": {
        "colab": {
          "base_uri": "https://localhost:8080/"
        },
        "id": "DKFgqiK-jlZg",
        "outputId": "08bac36d-8d05-48a4-cada-717028bb2894"
      },
      "execution_count": null,
      "outputs": [
        {
          "output_type": "stream",
          "name": "stdout",
          "text": [
            "init\n",
            "4\n",
            "5\n",
            "6\n",
            "5\n",
            "4\n",
            "del\n"
          ]
        }
      ]
    },
    {
      "cell_type": "code",
      "source": [
        "# Section 4.4, Part 1\n",
        "# Explain this output. Why does it seem odd?\n",
        "a = [1, 2, 3]\n",
        "b = a\n",
        "b[1] = 99\n",
        "print(a)\n",
        "print(b)\n",
        "\n",
        "# INSERT YOUR EXPLANATION HERE\n",
        "# The output is [1, 99, 3] because a was essentially copied by setting b to equal a but then the second place in the list [1] value was set to 99. Since b = a when a change was made in b the same change was made in a"
      ],
      "metadata": {
        "colab": {
          "base_uri": "https://localhost:8080/"
        },
        "id": "-pBk9F45ke-W",
        "outputId": "f4bad81e-6c8a-4039-b904-703eef679d7a"
      },
      "execution_count": null,
      "outputs": [
        {
          "output_type": "stream",
          "name": "stdout",
          "text": [
            "[1, 99, 3]\n",
            "[1, 99, 3]\n"
          ]
        }
      ]
    },
    {
      "cell_type": "code",
      "source": [
        "# Section 4.4, Part 2\n",
        "# Explain this output. Why is it from Part 1?\n",
        "a = [1, 2, 3]\n",
        "b = a[:]\n",
        "b[1] = 99\n",
        "print(a)\n",
        "print(b)\n",
        "\n",
        "# INSERT YOUR EXPLANATION HERE\n",
        "# Instead of copying list a this time b was made into a shallow copy of list a, b was assigned a slice of a which in this case is all of a. Since they do not directly equal each other a change can be made to b without changing a"
      ],
      "metadata": {
        "colab": {
          "base_uri": "https://localhost:8080/"
        },
        "id": "PFG-FWuUnmM6",
        "outputId": "f4ccf08c-e2ba-4bac-d5e4-e91c1d431899"
      },
      "execution_count": null,
      "outputs": [
        {
          "output_type": "stream",
          "name": "stdout",
          "text": [
            "[1, 2, 3]\n",
            "[1, 99, 3]\n"
          ]
        }
      ]
    },
    {
      "cell_type": "code",
      "source": [
        "# Section 4.4, Part 3\n",
        "# Explain this output. Why is it from Part 1?\n",
        "a = [1, 2, 3]\n",
        "b = list(a)\n",
        "b[1] = 99\n",
        "print(a)\n",
        "print(b)\n",
        "\n",
        "# INSERT YOUR EXPLANATION HERE\n",
        "# In this scenario b was set to equal the same values as a but not directly equal a, so a change can be made to b without changing a."
      ],
      "metadata": {
        "colab": {
          "base_uri": "https://localhost:8080/"
        },
        "id": "gYLWsIv0n1uR",
        "outputId": "d5c53778-404e-486d-e19f-76896eb639ce"
      },
      "execution_count": null,
      "outputs": [
        {
          "output_type": "stream",
          "name": "stdout",
          "text": [
            "[1, 2, 3]\n",
            "[1, 99, 3]\n"
          ]
        }
      ]
    },
    {
      "cell_type": "code",
      "source": [
        "# Section 4.4, Part 4\n",
        "# Now we understand copy vs. reference. What about shallow vs. deep copy?\n",
        "# Here's a shoolow copy. Why are a and b the same?\n",
        "a = [1, [100, 101], 3]\n",
        "b = list(a)\n",
        "b[1][1] = 900\n",
        "print(a)\n",
        "print(b)\n",
        "\n",
        "# INSERT YOUR EXPLANATION HERE\n",
        "# Even though b is a shallow copy b and a still share elements so when a change in an element of b is made it also changes a."
      ],
      "metadata": {
        "colab": {
          "base_uri": "https://localhost:8080/"
        },
        "id": "8qAscig2oA7D",
        "outputId": "e9e4e832-9aa6-477f-dda6-61a6403e883c"
      },
      "execution_count": null,
      "outputs": [
        {
          "output_type": "stream",
          "name": "stdout",
          "text": [
            "[1, [100, 900], 3]\n",
            "[1, [100, 900], 3]\n"
          ]
        }
      ]
    },
    {
      "cell_type": "code",
      "source": [
        "# Section 4.4, Part 5\n",
        "# Modify the code from the cell above (repeated here) to perform a deepcopy of a\n",
        "# Explain how that is different.\n",
        "import copy\n",
        "a = [1, [100, 101], 3]\n",
        "b = copy.deepcopy(a) # Must be modified to do a deepcopy of a! (See text).\n",
        "b[1][1] = 900\n",
        "print(a)\n",
        "print(b)\n",
        "\n",
        "# INSERT YOUR EXPLANATION HERE\n",
        "# A deep copy creates a new object and copies any elements instead of having them be shared between the two lists, therefore a change can now be made to b without changing a since they do not share any elements anymore."
      ],
      "metadata": {
        "colab": {
          "base_uri": "https://localhost:8080/"
        },
        "id": "Mc2xAGC-oU3C",
        "outputId": "a853b090-30d4-4591-cd23-b6637450e5c4"
      },
      "execution_count": 14,
      "outputs": [
        {
          "output_type": "stream",
          "name": "stdout",
          "text": [
            "[1, [100, 101], 3]\n",
            "[1, [100, 900], 3]\n"
          ]
        }
      ]
    }
  ]
}
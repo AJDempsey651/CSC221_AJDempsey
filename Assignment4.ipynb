{
  "nbformat": 4,
  "nbformat_minor": 0,
  "metadata": {
    "colab": {
      "provenance": [],
      "authorship_tag": "ABX9TyPOLOT42ro/40nElDGOjhRl",
      "include_colab_link": true
    },
    "kernelspec": {
      "name": "python3",
      "display_name": "Python 3"
    },
    "language_info": {
      "name": "python"
    }
  },
  "cells": [
    {
      "cell_type": "markdown",
      "metadata": {
        "id": "view-in-github",
        "colab_type": "text"
      },
      "source": [
        "<a href=\"https://colab.research.google.com/github/AJDempsey651/CSC221_AJDempsey/blob/main/Assignment4.ipynb\" target=\"_parent\"><img src=\"https://colab.research.google.com/assets/colab-badge.svg\" alt=\"Open In Colab\"/></a>"
      ]
    },
    {
      "cell_type": "code",
      "execution_count": 2,
      "metadata": {
        "colab": {
          "base_uri": "https://localhost:8080/"
        },
        "id": "BoQS7qnb0zWN",
        "outputId": "12d04ac8-6558-44ff-a13c-58986e8c06c5"
      },
      "outputs": [
        {
          "output_type": "stream",
          "name": "stdout",
          "text": [
            "Matt\n",
            "Bryce\n",
            "Andy\n"
          ]
        }
      ],
      "source": [
        "a = ['Matt', 'Bryce', 'Andy']\n",
        "print(a[0])\n",
        "print(a[1])\n",
        "print(a[2])"
      ]
    },
    {
      "cell_type": "code",
      "source": [
        "a = ['Matt', 'Bryce', 'Andy']\n",
        "message = \"You're a very good friend \"\n",
        "print(message + a[0])\n",
        "print(message + a[1])\n",
        "print(message + a[2])"
      ],
      "metadata": {
        "colab": {
          "base_uri": "https://localhost:8080/"
        },
        "id": "epI1mEzL5t-e",
        "outputId": "8964bf9b-7bf0-499d-ba26-791d281fb42d"
      },
      "execution_count": 5,
      "outputs": [
        {
          "output_type": "stream",
          "name": "stdout",
          "text": [
            "You're a very good friend Matt\n",
            "You're a very good friend Bryce\n",
            "You're a very good friend Andy\n"
          ]
        }
      ]
    },
    {
      "cell_type": "code",
      "source": [
        "b = ['Camaro', 'Honda Accord', 'Honda Rebel']\n",
        "message1 = \"My dream car is a \"\n",
        "message2 = \"I currently drive a \"\n",
        "message3 = \"I want to get my motorcycle license and buy a \"\n",
        "print(message1 + b[0])\n",
        "print(message2 + b[1])\n",
        "print(message3 + b[2])"
      ],
      "metadata": {
        "colab": {
          "base_uri": "https://localhost:8080/"
        },
        "id": "ZC74J_506PtU",
        "outputId": "5c0d7f35-a4c3-4eac-f63d-c9b22f33d5c0"
      },
      "execution_count": 6,
      "outputs": [
        {
          "output_type": "stream",
          "name": "stdout",
          "text": [
            "My dream car is a Camaro\n",
            "I currently drive a Honda Accord\n",
            "I want to get my motorcycle license and buy a Honda Rebel\n"
          ]
        }
      ]
    },
    {
      "cell_type": "code",
      "source": [
        "c = ['George Washington', 'Mark Wahlberg', 'Chuck Norris']\n",
        "messagepart1 = 'Hello '\n",
        "messagepart2 = ', this is an invitation by Adam Dempsey for you to attend dinner at the White House.'\n",
        "print(messagepart1 + c[0] + messagepart2)\n",
        "print(messagepart1 + c[1] + messagepart2)\n",
        "print(messagepart1 + c[2] + messagepart2)\n",
        "\n",
        "print(c[1])\n",
        "\n",
        "c[1] = 'Ulysses S. Grant'\n",
        "\n",
        "print(messagepart1 + c[0] + messagepart2)\n",
        "print(messagepart1 + c[1] + messagepart2)\n",
        "print(messagepart1 + c[2] + messagepart2)\n",
        "\n",
        "c.insert(0, 'Jake Elliot')\n",
        "c.insert(1, 'Steven Yeun')\n",
        "c.append('Jack Hughes')\n",
        "\n",
        "print(messagepart1 + c[0] + messagepart2)\n",
        "print(messagepart1 + c[1] + messagepart2)\n",
        "print(messagepart1 + c[2] + messagepart2)\n",
        "print(messagepart1 + c[3] + messagepart2)\n",
        "print(messagepart1 + c[4] + messagepart2)\n",
        "print(messagepart1 + c[5] + messagepart2)\n",
        "\n",
        "print('Only two people can attend dinner.')\n",
        "\n",
        "c.pop()\n",
        "c.pop()\n",
        "c.pop()\n",
        "c.pop()\n",
        "\n",
        "message2part1 = 'Hello '\n",
        "message2part2 = ', you are still invited to the dinner.'\n",
        "print(message2part1 + c[0] + message2part2)\n",
        "print(message2part1 + c[1] + message2part2)\n",
        "\n",
        "del c[0]\n",
        "del c[0]\n",
        "print(c)"
      ],
      "metadata": {
        "colab": {
          "base_uri": "https://localhost:8080/"
        },
        "id": "hHEIuPmU6ugg",
        "outputId": "99c633ef-24fb-4a4f-caa8-2c882a24637c"
      },
      "execution_count": 19,
      "outputs": [
        {
          "output_type": "stream",
          "name": "stdout",
          "text": [
            "Hello George Washington, this is an invitation by Adam Dempsey for you to attend dinner at the White House.\n",
            "Hello Mark Wahlberg, this is an invitation by Adam Dempsey for you to attend dinner at the White House.\n",
            "Hello Chuck Norris, this is an invitation by Adam Dempsey for you to attend dinner at the White House.\n",
            "Mark Wahlberg\n",
            "Hello George Washington, this is an invitation by Adam Dempsey for you to attend dinner at the White House.\n",
            "Hello Ulysses S. Grant, this is an invitation by Adam Dempsey for you to attend dinner at the White House.\n",
            "Hello Chuck Norris, this is an invitation by Adam Dempsey for you to attend dinner at the White House.\n",
            "Hello Jake Elliot, this is an invitation by Adam Dempsey for you to attend dinner at the White House.\n",
            "Hello Steven Yeun, this is an invitation by Adam Dempsey for you to attend dinner at the White House.\n",
            "Hello George Washington, this is an invitation by Adam Dempsey for you to attend dinner at the White House.\n",
            "Hello Ulysses S. Grant, this is an invitation by Adam Dempsey for you to attend dinner at the White House.\n",
            "Hello Chuck Norris, this is an invitation by Adam Dempsey for you to attend dinner at the White House.\n",
            "Hello Jack Hughes, this is an invitation by Adam Dempsey for you to attend dinner at the White House.\n",
            "Only two people can attend dinner.\n",
            "Hello Jake Elliot, you are still invited to the dinner.\n",
            "Hello Steven Yeun, you are still invited to the dinner.\n",
            "[]\n"
          ]
        }
      ]
    },
    {
      "cell_type": "code",
      "source": [
        "d = ['Poland', 'Ireland', 'Scotland', 'Tibet']\n",
        "print(d)\n",
        "print(sorted(d))\n",
        "print(d)\n",
        "d.reverse()\n",
        "print(d)\n",
        "d.reverse()\n",
        "print(d)\n",
        "d.sort()\n",
        "print(d)\n",
        "d.sort(reverse=True)\n",
        "print(d)"
      ],
      "metadata": {
        "colab": {
          "base_uri": "https://localhost:8080/"
        },
        "id": "wcx1qYdb7ZeI",
        "outputId": "97609408-6302-4f7d-ee5b-78ea6cb61a1d"
      },
      "execution_count": 25,
      "outputs": [
        {
          "output_type": "stream",
          "name": "stdout",
          "text": [
            "['Poland', 'Ireland', 'Scotland', 'Tibet']\n",
            "['Ireland', 'Poland', 'Scotland', 'Tibet']\n",
            "['Poland', 'Ireland', 'Scotland', 'Tibet']\n",
            "['Tibet', 'Scotland', 'Ireland', 'Poland']\n",
            "['Poland', 'Ireland', 'Scotland', 'Tibet']\n",
            "['Ireland', 'Poland', 'Scotland', 'Tibet']\n",
            "['Tibet', 'Scotland', 'Poland', 'Ireland']\n"
          ]
        }
      ]
    },
    {
      "cell_type": "code",
      "source": [
        "c = ['George Washington', 'Mark Wahlberg', 'Chuck Norris']\n",
        "messagepart1 = 'Hello '\n",
        "messagepart2 = ', this is an invitation by Adam Dempsey for you to attend dinner at the White House.'\n",
        "print(messagepart1 + c[0] + messagepart2)\n",
        "print(messagepart1 + c[1] + messagepart2)\n",
        "print(messagepart1 + c[2] + messagepart2)\n",
        "\n",
        "print(c[1])\n",
        "\n",
        "c[1] = 'Ulysses S. Grant'\n",
        "\n",
        "print(messagepart1 + c[0] + messagepart2)\n",
        "print(messagepart1 + c[1] + messagepart2)\n",
        "print(messagepart1 + c[2] + messagepart2)\n",
        "\n",
        "c.insert(0, 'Jake Elliot')\n",
        "c.insert(1, 'Steven Yeun')\n",
        "c.append('Jack Hughes')\n",
        "\n",
        "print(messagepart1 + c[0] + messagepart2)\n",
        "print(messagepart1 + c[1] + messagepart2)\n",
        "print(messagepart1 + c[2] + messagepart2)\n",
        "print(messagepart1 + c[3] + messagepart2)\n",
        "print(messagepart1 + c[4] + messagepart2)\n",
        "print(messagepart1 + c[5] + messagepart2)\n",
        "\n",
        "print('Only two people can attend dinner.')\n",
        "\n",
        "c.pop()\n",
        "c.pop()\n",
        "c.pop()\n",
        "c.pop()\n",
        "\n",
        "message2part1 = 'Hello '\n",
        "message2part2 = ', you are still invited to the dinner.'\n",
        "print(message2part1 + c[0] + message2part2)\n",
        "print(message2part1 + c[1] + message2part2)\n",
        "\n",
        "del c[0]\n",
        "del c[0]\n",
        "print(c)\n",
        "len(c)"
      ],
      "metadata": {
        "colab": {
          "base_uri": "https://localhost:8080/"
        },
        "id": "e4GLakkiAEfY",
        "outputId": "e87e0807-47ac-4c75-fd71-190aa209530a"
      },
      "execution_count": 26,
      "outputs": [
        {
          "output_type": "stream",
          "name": "stdout",
          "text": [
            "Hello George Washington, this is an invitation by Adam Dempsey for you to attend dinner at the White House.\n",
            "Hello Mark Wahlberg, this is an invitation by Adam Dempsey for you to attend dinner at the White House.\n",
            "Hello Chuck Norris, this is an invitation by Adam Dempsey for you to attend dinner at the White House.\n",
            "Mark Wahlberg\n",
            "Hello George Washington, this is an invitation by Adam Dempsey for you to attend dinner at the White House.\n",
            "Hello Ulysses S. Grant, this is an invitation by Adam Dempsey for you to attend dinner at the White House.\n",
            "Hello Chuck Norris, this is an invitation by Adam Dempsey for you to attend dinner at the White House.\n",
            "Hello Jake Elliot, this is an invitation by Adam Dempsey for you to attend dinner at the White House.\n",
            "Hello Steven Yeun, this is an invitation by Adam Dempsey for you to attend dinner at the White House.\n",
            "Hello George Washington, this is an invitation by Adam Dempsey for you to attend dinner at the White House.\n",
            "Hello Ulysses S. Grant, this is an invitation by Adam Dempsey for you to attend dinner at the White House.\n",
            "Hello Chuck Norris, this is an invitation by Adam Dempsey for you to attend dinner at the White House.\n",
            "Hello Jack Hughes, this is an invitation by Adam Dempsey for you to attend dinner at the White House.\n",
            "Only two people can attend dinner.\n",
            "Hello Jake Elliot, you are still invited to the dinner.\n",
            "Hello Steven Yeun, you are still invited to the dinner.\n",
            "[]\n"
          ]
        },
        {
          "output_type": "execute_result",
          "data": {
            "text/plain": [
              "0"
            ]
          },
          "metadata": {},
          "execution_count": 26
        }
      ]
    },
    {
      "cell_type": "code",
      "source": [
        "e = ['Mount Everest', 'Missouri River', 'USA', 'English', 'Paper Towels']\n",
        "print(e)\n",
        "print(e[0])\n",
        "print(e[0].title())\n",
        "print(e[-1])\n",
        "message = f\"I really like the {e[2].title()}.\"\n",
        "print(message)\n",
        "e[0] = 'Mount Door'\n",
        "print(e)\n",
        "e.append('Mount Everest')\n",
        "print(e)\n",
        "e.insert(0, 'Socket Wrench')\n",
        "print(e)\n",
        "del e[0]\n",
        "print(e)\n",
        "popped_e = e.pop()\n",
        "print(e)\n",
        "print(popped_e)\n",
        "e.remove('English')\n",
        "print(e)\n",
        "e.sort()\n",
        "print(e)\n",
        "e.sort(reverse=True)\n",
        "print(e)\n",
        "len(e)"
      ],
      "metadata": {
        "colab": {
          "base_uri": "https://localhost:8080/"
        },
        "id": "vveFsnC9AWnK",
        "outputId": "fdab41d1-65fb-4095-ad2d-8668582d59c2"
      },
      "execution_count": 33,
      "outputs": [
        {
          "output_type": "stream",
          "name": "stdout",
          "text": [
            "['Mount Everest', 'Missouri River', 'USA', 'English', 'Paper Towels']\n",
            "Mount Everest\n",
            "Mount Everest\n",
            "Paper Towels\n",
            "I really like the Usa.\n",
            "['Mount Door', 'Missouri River', 'USA', 'English', 'Paper Towels']\n",
            "['Mount Door', 'Missouri River', 'USA', 'English', 'Paper Towels', 'Mount Everest']\n",
            "['Socket Wrench', 'Mount Door', 'Missouri River', 'USA', 'English', 'Paper Towels', 'Mount Everest']\n",
            "['Mount Door', 'Missouri River', 'USA', 'English', 'Paper Towels', 'Mount Everest']\n",
            "['Mount Door', 'Missouri River', 'USA', 'English', 'Paper Towels']\n",
            "Mount Everest\n",
            "['Mount Door', 'Missouri River', 'USA', 'Paper Towels']\n",
            "['Missouri River', 'Mount Door', 'Paper Towels', 'USA']\n",
            "['USA', 'Paper Towels', 'Mount Door', 'Missouri River']\n"
          ]
        },
        {
          "output_type": "execute_result",
          "data": {
            "text/plain": [
              "4"
            ]
          },
          "metadata": {},
          "execution_count": 33
        }
      ]
    },
    {
      "cell_type": "code",
      "source": [
        "f = [1, 2, 3, 4]\n",
        "print(f[5])"
      ],
      "metadata": {
        "colab": {
          "base_uri": "https://localhost:8080/",
          "height": 194
        },
        "id": "Ij6G6BD2DOOE",
        "outputId": "151af851-b8b8-49fb-f137-e1941ce45a1d"
      },
      "execution_count": 34,
      "outputs": [
        {
          "output_type": "error",
          "ename": "IndexError",
          "evalue": "ignored",
          "traceback": [
            "\u001b[0;31m---------------------------------------------------------------------------\u001b[0m",
            "\u001b[0;31mIndexError\u001b[0m                                Traceback (most recent call last)",
            "\u001b[0;32m<ipython-input-34-8c5d33301a70>\u001b[0m in \u001b[0;36m<cell line: 2>\u001b[0;34m()\u001b[0m\n\u001b[1;32m      1\u001b[0m \u001b[0mf\u001b[0m \u001b[0;34m=\u001b[0m \u001b[0;34m[\u001b[0m\u001b[0;36m1\u001b[0m\u001b[0;34m,\u001b[0m \u001b[0;36m2\u001b[0m\u001b[0;34m,\u001b[0m \u001b[0;36m3\u001b[0m\u001b[0;34m,\u001b[0m \u001b[0;36m4\u001b[0m\u001b[0;34m]\u001b[0m\u001b[0;34m\u001b[0m\u001b[0;34m\u001b[0m\u001b[0m\n\u001b[0;32m----> 2\u001b[0;31m \u001b[0mprint\u001b[0m\u001b[0;34m(\u001b[0m\u001b[0mf\u001b[0m\u001b[0;34m[\u001b[0m\u001b[0;36m5\u001b[0m\u001b[0;34m]\u001b[0m\u001b[0;34m)\u001b[0m\u001b[0;34m\u001b[0m\u001b[0;34m\u001b[0m\u001b[0m\n\u001b[0m",
            "\u001b[0;31mIndexError\u001b[0m: list index out of range"
          ]
        }
      ]
    },
    {
      "cell_type": "code",
      "source": [
        "multiples = []\n",
        "for i in range(60, 86):\n",
        "  if i%7==0:\n",
        "    multiples.append(i)\n",
        "print(multiples)\n",
        "cube = []\n",
        "for i in multiples:\n",
        "  cube.append(i*i*i)\n",
        "print(cube)"
      ],
      "metadata": {
        "colab": {
          "base_uri": "https://localhost:8080/"
        },
        "id": "7SwxVh24DbT5",
        "outputId": "643a73cb-9724-4a05-eef5-592572a1f206"
      },
      "execution_count": 38,
      "outputs": [
        {
          "output_type": "stream",
          "name": "stdout",
          "text": [
            "[63, 70, 77, 84]\n",
            "[250047, 343000, 456533, 592704]\n"
          ]
        }
      ]
    },
    {
      "cell_type": "code",
      "source": [
        "value = [40, 50, 120, -8, 6]\n",
        "y = 7.4 * x + 51\n",
        "x = value[0]\n",
        "print(y)\n",
        "y = 7.4 * x + 51\n",
        "x = value[1]\n",
        "print(y)\n",
        "y = 7.4 * x + 51\n",
        "x = value[2]\n",
        "print(y)\n",
        "y = 7.4 * x + 51\n",
        "x = value[3]\n",
        "print(y)\n",
        "y = 7.4 * x + 51\n",
        "x = value[4]\n",
        "print(y)"
      ],
      "metadata": {
        "colab": {
          "base_uri": "https://localhost:8080/"
        },
        "id": "9uAljSN9Fb5A",
        "outputId": "a6080698-9198-46ac-d834-96ecd75f2fb7"
      },
      "execution_count": 48,
      "outputs": [
        {
          "output_type": "stream",
          "name": "stdout",
          "text": [
            "95.4\n",
            "347.0\n",
            "421.0\n",
            "939.0\n",
            "-8.200000000000003\n"
          ]
        }
      ]
    }
  ]
}
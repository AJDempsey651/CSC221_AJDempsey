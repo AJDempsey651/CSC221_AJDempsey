{
  "nbformat": 4,
  "nbformat_minor": 0,
  "metadata": {
    "colab": {
      "provenance": [],
      "authorship_tag": "ABX9TyOvTrDOt3vBfr9Nb68kNjj8",
      "include_colab_link": true
    },
    "kernelspec": {
      "name": "python3",
      "display_name": "Python 3"
    },
    "language_info": {
      "name": "python"
    }
  },
  "cells": [
    {
      "cell_type": "markdown",
      "metadata": {
        "id": "view-in-github",
        "colab_type": "text"
      },
      "source": [
        "<a href=\"https://colab.research.google.com/github/AJDempsey651/CSC221_AJDempsey/blob/main/Assignment22.ipynb\" target=\"_parent\"><img src=\"https://colab.research.google.com/assets/colab-badge.svg\" alt=\"Open In Colab\"/></a>"
      ]
    },
    {
      "cell_type": "code",
      "execution_count": 2,
      "metadata": {
        "colab": {
          "base_uri": "https://localhost:8080/"
        },
        "id": "UBMjKZPNgYxy",
        "outputId": "cddd181c-d14d-4852-e8fc-8d6f136b7e58"
      },
      "outputs": [
        {
          "output_type": "stream",
          "name": "stdout",
          "text": [
            "(0, 0)\n",
            "(-1, 2)\n",
            "(3, 4)\n",
            "(5, -2)\n"
          ]
        }
      ],
      "source": [
        "import math\n",
        "\n",
        "class Vector2D:\n",
        "    def __init__(self, x, y):\n",
        "        self.x = x\n",
        "        self.y = y\n",
        "\n",
        "    def __str__(self):\n",
        "        return f\"({self.x}, {self.y})\"\n",
        "\n",
        "    def __lt__(self, other):\n",
        "        return self.length() < other.length()\n",
        "\n",
        "    def length(self):\n",
        "        return math.sqrt(self.x**2 + self.y**2)\n",
        "\n",
        "vectors = [\n",
        "    Vector2D(3, 4),\n",
        "    Vector2D(-1, 2),\n",
        "    Vector2D(0, 0),\n",
        "    Vector2D(5, -2),\n",
        "]\n",
        "sorted_vectors = sorted(vectors)\n",
        "for vector in sorted_vectors:\n",
        "    print(vector)\n",
        "\n"
      ]
    },
    {
      "cell_type": "code",
      "source": [
        "class Vector2D:\n",
        "    def __init__(self, x, y):\n",
        "        self.x = x\n",
        "        self.y = y\n",
        "\n",
        "    def __str__(self):\n",
        "        return f\"({self.x}, {self.y})\"\n",
        "\n",
        "    def __lt__(self, other):\n",
        "        return self.distance_from_origin() < other.distance_from_origin()\n",
        "\n",
        "    def distance_from_origin(self):\n",
        "        return math.sqrt(self.x**2 + self.y**2)\n",
        "\n",
        "vectors = [\n",
        "    Vector2D(3, 4),\n",
        "    Vector2D(-1, 2),\n",
        "    Vector2D(0, 0),\n",
        "    Vector2D(5, -2),\n",
        "]\n",
        "\n",
        "sorted_vectors = sorted(vectors)\n",
        "for vector in sorted_vectors:\n",
        "    print(vector)\n",
        "\n",
        "\n"
      ],
      "metadata": {
        "colab": {
          "base_uri": "https://localhost:8080/"
        },
        "id": "anGOyb3wmrdS",
        "outputId": "c628a949-90e6-4cd5-b81d-1a5419f1ab5e"
      },
      "execution_count": 6,
      "outputs": [
        {
          "output_type": "stream",
          "name": "stdout",
          "text": [
            "Original vectors:\n",
            "(3, 4)\n",
            "(-1, 2)\n",
            "(0, 0)\n",
            "(5, -2)\n",
            "\n",
            "Sorted vectors by distance from origin:\n",
            "(0, 0)\n",
            "(-1, 2)\n",
            "(3, 4)\n",
            "(5, -2)\n"
          ]
        }
      ]
    },
    {
      "cell_type": "code",
      "source": [
        "class KeyLengthContainer:\n",
        "    def __init__(self):\n",
        "        self.key_lengths = {}\n",
        "\n",
        "    def __setitem__(self, key, value):\n",
        "        pass\n",
        "\n",
        "    def __getitem__(self, key):\n",
        "        return len(key)\n",
        "\n",
        "    def __delitem__(self, key):\n",
        "        pass\n",
        "\n",
        "    def __len__(self):\n",
        "        return len(self.key_lengths)\n",
        "\n",
        "\n",
        "container = KeyLengthContainer()\n",
        "container[\"apple\"] = \"some_value\"\n",
        "container[\"banana\"] = \"another_value\"\n",
        "container[\"orange\"] = \"yet_another_value\"\n",
        "print(\"Length of 'apple':\", container[\"apple\"])\n",
        "print(\"Length of 'banana':\", container[\"banana\"])\n",
        "print(\"Length of 'orange':\", container[\"orange\"])\n"
      ],
      "metadata": {
        "colab": {
          "base_uri": "https://localhost:8080/"
        },
        "id": "oIA9Qfldnkg7",
        "outputId": "a1dcb02a-d02c-479b-fe7e-3726d9dc3f13"
      },
      "execution_count": 7,
      "outputs": [
        {
          "output_type": "stream",
          "name": "stdout",
          "text": [
            "Length of 'apple': 5\n",
            "Length of 'banana': 6\n",
            "Length of 'orange': 6\n",
            "Number of keys in the container: 0\n"
          ]
        }
      ]
    }
  ]
}
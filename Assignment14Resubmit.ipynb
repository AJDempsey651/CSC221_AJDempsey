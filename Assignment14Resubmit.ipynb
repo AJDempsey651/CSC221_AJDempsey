{
  "nbformat": 4,
  "nbformat_minor": 0,
  "metadata": {
    "colab": {
      "provenance": [],
      "authorship_tag": "ABX9TyMHPHkNaNW2mSW4hRZyeALa",
      "include_colab_link": true
    },
    "kernelspec": {
      "name": "python3",
      "display_name": "Python 3"
    },
    "language_info": {
      "name": "python"
    }
  },
  "cells": [
    {
      "cell_type": "markdown",
      "metadata": {
        "id": "view-in-github",
        "colab_type": "text"
      },
      "source": [
        "<a href=\"https://colab.research.google.com/github/AJDempsey651/CSC221_AJDempsey/blob/main/Assignment14Resubmit.ipynb\" target=\"_parent\"><img src=\"https://colab.research.google.com/assets/colab-badge.svg\" alt=\"Open In Colab\"/></a>"
      ]
    },
    {
      "cell_type": "code",
      "execution_count": null,
      "metadata": {
        "colab": {
          "base_uri": "https://localhost:8080/"
        },
        "id": "6IEKUxBtHf0g",
        "outputId": "e66c457a-88e5-45b4-970a-bef8677a8725"
      },
      "outputs": [
        {
          "name": "stdout",
          "output_type": "stream",
          "text": [
            "Type Stop to exit calculator\n",
            "Current Number:  0\n",
            "Enter an operator: +, -, *, /: +\n",
            "Enter a number: 5\n",
            "Current Number:  5\n",
            "Enter an operator: +, -, *, /: Stop\n"
          ]
        }
      ],
      "source": [
        "Current_number = 0\n",
        "active = True\n",
        "print(\"Type Stop to exit calculator\")\n",
        "while active == True:\n",
        "  print('Current Number: ', Current_number)\n",
        "  user_operator = input(\"Enter an operator: +, -, *, /: \")\n",
        "  if user_operator == 'Stop':\n",
        "    active = False\n",
        "    break;\n",
        "  user_number = int(input(\"Enter a number: \"))\n",
        "  if user_operator == '+':\n",
        "    Current_number = Current_number + user_number\n",
        "  if user_operator == '-':\n",
        "    Current_number = Current_number - user_number\n",
        "  if user_operator == '*':\n",
        "    Current_number = Current_number * user_number\n",
        "  if user_operator == '/':\n",
        "    Current_number = Current_number / user_number"
      ]
    },
    {
      "cell_type": "code",
      "source": [
        "active = True\n",
        "print(\"Type Exit to stop the calculator\")\n",
        "while active == True:\n",
        "  equation = input(\"Enter your equation: \")\n",
        "  if equation == 'Exit':\n",
        "    break;\n",
        "  x = equation.split()\n",
        "  if x[1] == '+':\n",
        "    try:\n",
        "      x[0] = int(x[0])\n",
        "      x[2] = int(x[2])\n",
        "      print(x[0] + x[2])\n",
        "    except ValueError:\n",
        "      print(\"You cannot add those values!\")\n",
        "  elif x[1] == '-':\n",
        "    try:\n",
        "      x[0] = int(x[0])\n",
        "      x[2] = int(x[2])\n",
        "      print(x[0] - x[2])\n",
        "    except ValueError:\n",
        "      print(\"You cannot subtract those values!\")\n",
        "  elif x[1] == '*':\n",
        "    try:\n",
        "      x[0] = int(x[0])\n",
        "      x[2] = int(x[2])\n",
        "      print(x[0] * x[2])\n",
        "    except ValueError:\n",
        "      print(\"You cannot multiply those values!\")\n",
        "  elif x[1] == '/':\n",
        "    try:\n",
        "      x[0] = int(x[0])\n",
        "      x[2] = int(x[2])\n",
        "      print(x[0] / x[2])\n",
        "    except ValueError:\n",
        "      print(\"You cannnot divide those values!\")\n",
        "    except ZeroDivisionError:\n",
        "      print(\"You can't divide by zero!\")"
      ],
      "metadata": {
        "colab": {
          "base_uri": "https://localhost:8080/"
        },
        "id": "YqQvy4jfIRyP",
        "outputId": "a9726df6-24ad-4b7e-d329-a4165280aed6"
      },
      "execution_count": 10,
      "outputs": [
        {
          "name": "stdout",
          "output_type": "stream",
          "text": [
            "Type Exit to stop the calculator\n",
            "Enter your equation: 5 / 0\n",
            "You can't divide by zero!\n",
            "Enter your equation: 5 + a\n",
            "You cannot add those values!\n",
            "Enter your equation: 13 / 5\n",
            "2.6\n",
            "Enter your equation: Exit\n"
          ]
        }
      ]
    }
  ]
}
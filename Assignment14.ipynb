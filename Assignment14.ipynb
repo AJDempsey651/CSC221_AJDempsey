{
  "nbformat": 4,
  "nbformat_minor": 0,
  "metadata": {
    "colab": {
      "provenance": [],
      "authorship_tag": "ABX9TyN5rtsjngqQdhPAlSGpXigL",
      "include_colab_link": true
    },
    "kernelspec": {
      "name": "python3",
      "display_name": "Python 3"
    },
    "language_info": {
      "name": "python"
    }
  },
  "cells": [
    {
      "cell_type": "markdown",
      "metadata": {
        "id": "view-in-github",
        "colab_type": "text"
      },
      "source": [
        "<a href=\"https://colab.research.google.com/github/AJDempsey651/CSC221_AJDempsey/blob/main/Assignment14.ipynb\" target=\"_parent\"><img src=\"https://colab.research.google.com/assets/colab-badge.svg\" alt=\"Open In Colab\"/></a>"
      ]
    },
    {
      "cell_type": "code",
      "execution_count": 2,
      "metadata": {
        "colab": {
          "base_uri": "https://localhost:8080/"
        },
        "id": "6IEKUxBtHf0g",
        "outputId": "e66c457a-88e5-45b4-970a-bef8677a8725"
      },
      "outputs": [
        {
          "name": "stdout",
          "output_type": "stream",
          "text": [
            "Type Stop to exit calculator\n",
            "Current Number:  0\n",
            "Enter an operator: +, -, *, /: +\n",
            "Enter a number: 5\n",
            "Current Number:  5\n",
            "Enter an operator: +, -, *, /: Stop\n"
          ]
        }
      ],
      "source": [
        "Current_number = 0\n",
        "active = True\n",
        "print(\"Type Stop to exit calculator\")\n",
        "while active == True:\n",
        "  print('Current Number: ', Current_number)\n",
        "  user_operator = input(\"Enter an operator: +, -, *, /: \")\n",
        "  if user_operator == 'Stop':\n",
        "    active = False\n",
        "    break;\n",
        "  user_number = int(input(\"Enter a number: \"))\n",
        "  if user_operator == '+':\n",
        "    Current_number = Current_number + user_number\n",
        "  if user_operator == '-':\n",
        "    Current_number = Current_number - user_number\n",
        "  if user_operator == '*':\n",
        "    Current_number = Current_number * user_number\n",
        "  if user_operator == '/':\n",
        "    Current_number = Current_number / user_number"
      ]
    },
    {
      "cell_type": "code",
      "source": [
        "active = True\n",
        "print(\"Type Exit to stop the calculator\")\n",
        "while active == True:\n",
        "  equation = input(\"Enter your equation: \")\n",
        "  if equation == 'Exit':\n",
        "    break;\n",
        "  x = equation.split()\n",
        "  x[0] = int(x[0])\n",
        "  x[2] = int(x[2])\n",
        "  if x[1] == '+':\n",
        "    print(x[0] + x[2])\n",
        "  elif x[1] == '-':\n",
        "    print(x[0] - x[2])\n",
        "  elif x[1] == '*':\n",
        "    print(x[0] * x[2])\n",
        "  elif x[1] == '/':\n",
        "    print(x[0] / x[2])"
      ],
      "metadata": {
        "colab": {
          "base_uri": "https://localhost:8080/"
        },
        "id": "YqQvy4jfIRyP",
        "outputId": "30f6c2e4-8028-4e8f-81c3-a82f3a0d1cbb"
      },
      "execution_count": 16,
      "outputs": [
        {
          "name": "stdout",
          "output_type": "stream",
          "text": [
            "Type Exit to stop the calculator\n",
            "Enter your equation: Exit\n"
          ]
        }
      ]
    }
  ]
}
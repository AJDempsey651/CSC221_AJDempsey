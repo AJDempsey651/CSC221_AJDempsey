{
  "nbformat": 4,
  "nbformat_minor": 0,
  "metadata": {
    "colab": {
      "provenance": [],
      "authorship_tag": "ABX9TyOL/OcyRkVQaw2BR8kz0+HX",
      "include_colab_link": true
    },
    "kernelspec": {
      "name": "python3",
      "display_name": "Python 3"
    },
    "language_info": {
      "name": "python"
    }
  },
  "cells": [
    {
      "cell_type": "markdown",
      "metadata": {
        "id": "view-in-github",
        "colab_type": "text"
      },
      "source": [
        "<a href=\"https://colab.research.google.com/github/AJDempsey651/CSC221_AJDempsey/blob/main/Assignment5.ipynb\" target=\"_parent\"><img src=\"https://colab.research.google.com/assets/colab-badge.svg\" alt=\"Open In Colab\"/></a>"
      ]
    },
    {
      "cell_type": "code",
      "execution_count": 7,
      "metadata": {
        "colab": {
          "base_uri": "https://localhost:8080/"
        },
        "id": "1oQDjXTte0rM",
        "outputId": "d7b7e0b8-4ae6-4b8d-dae6-4c874204b26a"
      },
      "outputs": [
        {
          "output_type": "stream",
          "name": "stdout",
          "text": [
            "Pepperoni-Pizza\n",
            "Fry-Pizza\n",
            "Bacon-Pizza\n",
            "Pepper-and-Onion-Pizza\n"
          ]
        }
      ],
      "source": [
        "pizzas = ['Pepperoni-Pizza', 'Fry-Pizza', 'Bacon-Pizza', 'Pepper-and-Onion-Pizza']\n",
        "for pizza in pizzas:\n",
        "  print(pizza)"
      ]
    },
    {
      "cell_type": "code",
      "source": [
        "pizzas = ['Pepperoni-Pizza', 'Fry-Pizza', 'Bacon-Pizza', 'Pepper-and-Onion-Pizza']\n",
        "for pizza in pizzas:\n",
        "  print(f\"I like {pizza.title()}\")"
      ],
      "metadata": {
        "colab": {
          "base_uri": "https://localhost:8080/"
        },
        "id": "zshxkNUOhHhZ",
        "outputId": "f525c073-ce1e-4b0c-c5f3-9f79f449020c"
      },
      "execution_count": 8,
      "outputs": [
        {
          "output_type": "stream",
          "name": "stdout",
          "text": [
            "I like Pepperoni-Pizza\n",
            "I like Fry-Pizza\n",
            "I like Bacon-Pizza\n",
            "I like Pepper-And-Onion-Pizza\n"
          ]
        }
      ]
    },
    {
      "cell_type": "code",
      "source": [
        "pizzas = ['Pepperoni-Pizza', 'Fry-Pizza', 'Bacon-Pizza', 'Pepper-and-Onion-Pizza']\n",
        "for pizza in pizzas:\n",
        "  print(f\"I like {pizza.title()}\")\n",
        "\n",
        "print(\"I really like pizza.\")"
      ],
      "metadata": {
        "colab": {
          "base_uri": "https://localhost:8080/"
        },
        "id": "L3ykZKaRhiOn",
        "outputId": "11e2cb8b-c0ea-46f3-8715-7cc4d0e981cc"
      },
      "execution_count": 9,
      "outputs": [
        {
          "output_type": "stream",
          "name": "stdout",
          "text": [
            "I like Pepperoni-Pizza\n",
            "I like Fry-Pizza\n",
            "I like Bacon-Pizza\n",
            "I like Pepper-And-Onion-Pizza\n",
            "I really like pizza.\n"
          ]
        }
      ]
    },
    {
      "cell_type": "code",
      "source": [
        "animals = ['Dog', 'Wolf', 'Coyote']\n",
        "for animal in animals:\n",
        "  print(animal)"
      ],
      "metadata": {
        "colab": {
          "base_uri": "https://localhost:8080/"
        },
        "id": "K_WBKShtiDqK",
        "outputId": "e5f9e729-ec84-4d00-e200-8b22f80db628"
      },
      "execution_count": 10,
      "outputs": [
        {
          "output_type": "stream",
          "name": "stdout",
          "text": [
            "Dog\n",
            "Wolf\n",
            "Coyote\n"
          ]
        }
      ]
    },
    {
      "cell_type": "code",
      "source": [
        "animals = ['Dog', 'Wolf', 'Coyote']\n",
        "for animal in animals:\n",
        "  print(f\"{animal.title()} is a very cool animal.\")"
      ],
      "metadata": {
        "colab": {
          "base_uri": "https://localhost:8080/"
        },
        "id": "9idFGyY1iP2u",
        "outputId": "803f1285-d851-443e-8504-b5a61dd092e1"
      },
      "execution_count": 11,
      "outputs": [
        {
          "output_type": "stream",
          "name": "stdout",
          "text": [
            "Dog is a very cool animal.\n",
            "Wolf is a very cool animal.\n",
            "Coyote is a very cool animal.\n"
          ]
        }
      ]
    },
    {
      "cell_type": "code",
      "source": [
        "animals = ['Dog', 'Wolf', 'Coyote']\n",
        "for animal in animals:\n",
        "  print(f\"{animal.title()} is a very cool animal.\")\n",
        "print(\"All of these animals share a recent ancestor.\")"
      ],
      "metadata": {
        "colab": {
          "base_uri": "https://localhost:8080/"
        },
        "id": "t4VIfpa7iv0R",
        "outputId": "a91c063b-5c23-4bd6-b831-1440250890e8"
      },
      "execution_count": 12,
      "outputs": [
        {
          "output_type": "stream",
          "name": "stdout",
          "text": [
            "Dog is a very cool animal.\n",
            "Wolf is a very cool animal.\n",
            "Coyote is a very cool animal.\n",
            "All of these animals share a recent ancestor.\n"
          ]
        }
      ]
    },
    {
      "cell_type": "code",
      "source": [
        "for value in range(1, 21):\n",
        "  print(value)"
      ],
      "metadata": {
        "colab": {
          "base_uri": "https://localhost:8080/"
        },
        "id": "M8vzC52Ei2dN",
        "outputId": "f2d27e65-236b-4e26-b54c-f1a54808481c"
      },
      "execution_count": 13,
      "outputs": [
        {
          "output_type": "stream",
          "name": "stdout",
          "text": [
            "1\n",
            "2\n",
            "3\n",
            "4\n",
            "5\n",
            "6\n",
            "7\n",
            "8\n",
            "9\n",
            "10\n",
            "11\n",
            "12\n",
            "13\n",
            "14\n",
            "15\n",
            "16\n",
            "17\n",
            "18\n",
            "19\n",
            "20\n"
          ]
        }
      ]
    },
    {
      "cell_type": "code",
      "source": [
        "numbers = list(range(1, 1000000))\n",
        "print(numbers)"
      ],
      "metadata": {
        "colab": {
          "base_uri": "https://localhost:8080/"
        },
        "id": "VRbAufPbjBZO",
        "outputId": "c0d14adc-c696-4fa2-b9b4-499df9859823"
      },
      "execution_count": 15,
      "outputs": [
        {
          "output_type": "stream",
          "name": "stderr",
          "text": [
            "IOPub data rate exceeded.\n",
            "The notebook server will temporarily stop sending output\n",
            "to the client in order to avoid crashing it.\n",
            "To change this limit, set the config variable\n",
            "`--NotebookApp.iopub_data_rate_limit`.\n",
            "\n",
            "Current values:\n",
            "NotebookApp.iopub_data_rate_limit=1000000.0 (bytes/sec)\n",
            "NotebookApp.rate_limit_window=3.0 (secs)\n",
            "\n"
          ]
        }
      ]
    },
    {
      "cell_type": "code",
      "source": [
        "numbers = list(range(1, 1000000))\n",
        "print(min(numbers))\n",
        "print(max(numbers))\n",
        "sum(numbers)"
      ],
      "metadata": {
        "colab": {
          "base_uri": "https://localhost:8080/"
        },
        "id": "1gD3cfAdjj74",
        "outputId": "29008387-475e-4fd8-baec-43d1b53da132"
      },
      "execution_count": 17,
      "outputs": [
        {
          "output_type": "stream",
          "name": "stdout",
          "text": [
            "1\n",
            "999999\n"
          ]
        },
        {
          "output_type": "execute_result",
          "data": {
            "text/plain": [
              "499999500000"
            ]
          },
          "metadata": {},
          "execution_count": 17
        }
      ]
    },
    {
      "cell_type": "code",
      "source": [
        "odd_numbers = list(range(1, 20))\n",
        "for odd_numbers in range(1, 20, 2):\n",
        "  print(odd_numbers)"
      ],
      "metadata": {
        "colab": {
          "base_uri": "https://localhost:8080/"
        },
        "id": "IPp4SrovkBSU",
        "outputId": "d9a02cda-864d-4463-c7df-b3ae1c86967a"
      },
      "execution_count": 28,
      "outputs": [
        {
          "output_type": "stream",
          "name": "stdout",
          "text": [
            "1\n",
            "3\n",
            "5\n",
            "7\n",
            "9\n",
            "11\n",
            "13\n",
            "15\n",
            "17\n",
            "19\n"
          ]
        }
      ]
    },
    {
      "cell_type": "code",
      "source": [
        "threes = [3, 6, 9, 12, 15, 18, 21, 24, 27, 30]\n",
        "for three in threes:\n",
        "  print(three)"
      ],
      "metadata": {
        "colab": {
          "base_uri": "https://localhost:8080/"
        },
        "id": "Hn4-8i-3lm6R",
        "outputId": "7a3e75e6-e497-4b7f-8939-240db582459f"
      },
      "execution_count": 29,
      "outputs": [
        {
          "output_type": "stream",
          "name": "stdout",
          "text": [
            "3\n",
            "6\n",
            "9\n",
            "12\n",
            "15\n",
            "18\n",
            "21\n",
            "24\n",
            "27\n",
            "30\n"
          ]
        }
      ]
    },
    {
      "cell_type": "code",
      "source": [
        "cubes = [1, 8, 27, 64, 125, 216, 343, 512, 729, 1000]\n",
        "for cube in cubes:\n",
        "  print(cube)"
      ],
      "metadata": {
        "colab": {
          "base_uri": "https://localhost:8080/"
        },
        "id": "_PuTKgOql5Cw",
        "outputId": "205017b9-b817-4f3f-8be9-bab151deb426"
      },
      "execution_count": 30,
      "outputs": [
        {
          "output_type": "stream",
          "name": "stdout",
          "text": [
            "1\n",
            "8\n",
            "27\n",
            "64\n",
            "125\n",
            "216\n",
            "343\n",
            "512\n",
            "729\n",
            "1000\n"
          ]
        }
      ]
    },
    {
      "cell_type": "code",
      "source": [
        "cubes = [value**3 for value in range(1, 11)]\n",
        "print(cubes)"
      ],
      "metadata": {
        "colab": {
          "base_uri": "https://localhost:8080/"
        },
        "id": "DRnKolM-mdwv",
        "outputId": "c29c4c30-a7e7-472b-f339-1deb6f702983"
      },
      "execution_count": 31,
      "outputs": [
        {
          "output_type": "stream",
          "name": "stdout",
          "text": [
            "[1, 8, 27, 64, 125, 216, 343, 512, 729, 1000]\n"
          ]
        }
      ]
    },
    {
      "cell_type": "code",
      "source": [
        "pizzas = ['Pepperoni-Pizza', 'Fry-Pizza', 'Bacon-Pizza', 'Pepper-and-Onion-Pizza', 'Chicken-Pizza']\n",
        "for pizza in pizzas:\n",
        "  print(pizza)\n",
        "print('The first three items in the list are:', pizzas[0:3])\n",
        "print('The middle three items in the list are', pizzas[1:4])\n",
        "print('The last three items in the list are', pizzas[2:])"
      ],
      "metadata": {
        "colab": {
          "base_uri": "https://localhost:8080/"
        },
        "id": "8BtFDLNhmou6",
        "outputId": "a6219466-8928-415e-94b2-637b4ba808e1"
      },
      "execution_count": 38,
      "outputs": [
        {
          "output_type": "stream",
          "name": "stdout",
          "text": [
            "Pepperoni-Pizza\n",
            "Fry-Pizza\n",
            "Bacon-Pizza\n",
            "Pepper-and-Onion-Pizza\n",
            "Chicken-Pizza\n",
            "The first three items in the list are: ['Pepperoni-Pizza', 'Fry-Pizza', 'Bacon-Pizza']\n",
            "The middle three items in the list are ['Fry-Pizza', 'Bacon-Pizza', 'Pepper-and-Onion-Pizza']\n",
            "The last three items in the list are ['Bacon-Pizza', 'Pepper-and-Onion-Pizza', 'Chicken-Pizza']\n"
          ]
        }
      ]
    },
    {
      "cell_type": "code",
      "source": [
        "pizzas = ['Pepperoni-Pizza', 'Fry-Pizza', 'Bacon-Pizza', 'Pepper-and-Onion-Pizza']\n",
        "friend_pizzas = ['Pepperoni-Pizza', 'Fry-Pizza', 'Bacon-Pizza', 'Pepper-and-Onion-Pizza', ]\n",
        "pizzas.append('Chicken-Pizza')\n",
        "friend_pizzas.append('Barbecue-Pizza')\n",
        "\n",
        "print(\"My favorite Pizza's are:\")\n",
        "for pizza in pizzas:\n",
        "  print(pizza)\n",
        "\n",
        "print(\"My friends favorite pizza's are:\")\n",
        "for pizza in friend_pizzas:\n",
        "  print(pizza)"
      ],
      "metadata": {
        "colab": {
          "base_uri": "https://localhost:8080/"
        },
        "id": "neIVAfkXoLTH",
        "outputId": "ef61291d-0187-444a-c809-c1a0bdf97369"
      },
      "execution_count": 40,
      "outputs": [
        {
          "output_type": "stream",
          "name": "stdout",
          "text": [
            "My favorite Pizza's are:\n",
            "Pepperoni-Pizza\n",
            "Fry-Pizza\n",
            "Bacon-Pizza\n",
            "Pepper-and-Onion-Pizza\n",
            "Chicken-Pizza\n",
            "My friends favorite pizza's are:\n",
            "Pepperoni-Pizza\n",
            "Fry-Pizza\n",
            "Bacon-Pizza\n",
            "Pepper-and-Onion-Pizza\n",
            "Barbecue-Pizza\n"
          ]
        }
      ]
    },
    {
      "cell_type": "code",
      "source": [
        "my_foods = ['Pizza', 'falafel', 'carrot cake']\n",
        "friends_foods = my_foods[:]\n",
        "my_foods.append('cannoli')\n",
        "friends_foods.append('ice cream')\n",
        "print('My favorite foods are:')\n",
        "for food in my_foods:\n",
        "  print(food)\n",
        "print('My friends favorite food are:')\n",
        "for food in friends_foods:\n",
        "  print(food)"
      ],
      "metadata": {
        "colab": {
          "base_uri": "https://localhost:8080/"
        },
        "id": "pY80a-mkpC0a",
        "outputId": "76dd7e26-e99c-44f0-caad-3414b17b1688"
      },
      "execution_count": 43,
      "outputs": [
        {
          "output_type": "stream",
          "name": "stdout",
          "text": [
            "My favorite foods are:\n",
            "Pizza\n",
            "falafel\n",
            "carrot cake\n",
            "cannoli\n",
            "My friends favorite food are:\n",
            "Pizza\n",
            "falafel\n",
            "carrot cake\n",
            "ice cream\n"
          ]
        }
      ]
    },
    {
      "cell_type": "code",
      "source": [
        "buffet = ('chicken', 'steak', 'veges', 'ice cream', 'cheese cake')\n",
        "for buffet in buffet:\n",
        "  print(buffet)\n",
        "buffet = ('bacon', 'steak', 'veges', 'chocolate cake', 'cheese cake')\n",
        "for buffet in buffet:\n",
        "  print(buffet)"
      ],
      "metadata": {
        "colab": {
          "base_uri": "https://localhost:8080/"
        },
        "id": "lGSStN9rp5iO",
        "outputId": "4e4e4cb4-511e-4df2-f4e6-ae9d590b69f0"
      },
      "execution_count": 51,
      "outputs": [
        {
          "output_type": "stream",
          "name": "stdout",
          "text": [
            "chicken\n",
            "steak\n",
            "veges\n",
            "ice cream\n",
            "cheese cake\n",
            "bacon\n",
            "steak\n",
            "veges\n",
            "chocolate cake\n",
            "cheese cake\n"
          ]
        }
      ]
    },
    {
      "cell_type": "code",
      "source": [
        "def factorial(n):\n",
        "  list = [x+1 for x in range(n)]\n",
        "  result = 1\n",
        "  for x in list:\n",
        "    result *= x\n",
        "  return result\n",
        "\n",
        "print(factorial(5))\n",
        "print(factorial(10))\n",
        "print(factorial(20))\n",
        "print(factorial(50))"
      ],
      "metadata": {
        "colab": {
          "base_uri": "https://localhost:8080/"
        },
        "id": "_u1tVowyXhE1",
        "outputId": "733e9864-6c08-4e3d-da13-75868c617ff5"
      },
      "execution_count": 1,
      "outputs": [
        {
          "output_type": "stream",
          "name": "stdout",
          "text": [
            "120\n",
            "3628800\n",
            "2432902008176640000\n",
            "30414093201713378043612608166064768844377641568960512000000000000\n"
          ]
        }
      ]
    },
    {
      "cell_type": "code",
      "source": [],
      "metadata": {
        "id": "RBIs4X3xY7at"
      },
      "execution_count": null,
      "outputs": []
    },
    {
      "cell_type": "code",
      "source": [
        "def special_factorial(n):\n",
        "  list = [x+1 for x in range(n)]\n",
        "  if n >= 4:\n",
        "    list.remove(4)\n",
        "  result = 1\n",
        "  for x in list:\n",
        "    result *= x\n",
        "  return result\n",
        "\n",
        "print(special_factorial(5))\n",
        "print(special_factorial(10))\n",
        "print(special_factorial(20))\n",
        "print(special_factorial(50))"
      ],
      "metadata": {
        "colab": {
          "base_uri": "https://localhost:8080/"
        },
        "outputId": "2cea2e90-5f9f-460d-8799-1a4bf3ce2df8",
        "id": "WY0W99J3Y7r5"
      },
      "execution_count": 2,
      "outputs": [
        {
          "output_type": "stream",
          "name": "stdout",
          "text": [
            "30\n",
            "907200\n",
            "608225502044160000\n",
            "7603523300428344510903152041516192211094410392240128000000000000\n"
          ]
        }
      ]
    }
  ]
}
{
  "nbformat": 4,
  "nbformat_minor": 0,
  "metadata": {
    "colab": {
      "provenance": [],
      "authorship_tag": "ABX9TyP2o8qo9ksMxjOMcUk08Hl3",
      "include_colab_link": true
    },
    "kernelspec": {
      "name": "python3",
      "display_name": "Python 3"
    },
    "language_info": {
      "name": "python"
    }
  },
  "cells": [
    {
      "cell_type": "markdown",
      "metadata": {
        "id": "view-in-github",
        "colab_type": "text"
      },
      "source": [
        "<a href=\"https://colab.research.google.com/github/AJDempsey651/CSC221_AJDempsey/blob/main/Assignment3.ipynb\" target=\"_parent\"><img src=\"https://colab.research.google.com/assets/colab-badge.svg\" alt=\"Open In Colab\"/></a>"
      ]
    },
    {
      "cell_type": "code",
      "source": [
        "#Adam 9/6/2023\n",
        "message = \"Hello Professor Lecky\"\n",
        "print(message)"
      ],
      "metadata": {
        "colab": {
          "base_uri": "https://localhost:8080/"
        },
        "id": "69RhuwXK-EOF",
        "outputId": "d506c28a-b986-4ef1-f8f9-9130bb85fd24"
      },
      "execution_count": 4,
      "outputs": [
        {
          "output_type": "stream",
          "name": "stdout",
          "text": [
            "Hello Professor Lecky\n"
          ]
        }
      ]
    },
    {
      "cell_type": "code",
      "source": [
        "#Adam 9/6/2023\n",
        "username = \"Tom\"\n",
        "print(\"Hello \" + username + \", would you like to learn some Python today?\")"
      ],
      "metadata": {
        "colab": {
          "base_uri": "https://localhost:8080/"
        },
        "id": "8qDB4OiL-a_T",
        "outputId": "59e8bb98-9fd8-4ba1-ca75-506db8229bba"
      },
      "execution_count": 5,
      "outputs": [
        {
          "output_type": "stream",
          "name": "stdout",
          "text": [
            "Hello Tom, would you like to learn some Python today?\n"
          ]
        }
      ]
    },
    {
      "cell_type": "code",
      "source": [
        "name = \"Adam\"\n",
        "print(name.title())\n",
        "print(name.upper())\n",
        "print(name.lower())"
      ],
      "metadata": {
        "colab": {
          "base_uri": "https://localhost:8080/"
        },
        "id": "uLQpN5Lv_FZ6",
        "outputId": "fbf4a664-e260-4f9e-8cfd-c6707e6d16e5"
      },
      "execution_count": 7,
      "outputs": [
        {
          "output_type": "stream",
          "name": "stdout",
          "text": [
            "Adam\n",
            "ADAM\n",
            "adam\n"
          ]
        }
      ]
    },
    {
      "cell_type": "code",
      "source": [
        "famous_person = \"Darth Vader\"\n",
        "quote = '\"I find your lack of faith distrubring.\"'\n",
        "print(famous_person + \" once said, \" + quote)"
      ],
      "metadata": {
        "colab": {
          "base_uri": "https://localhost:8080/"
        },
        "id": "i00eXUX__Va7",
        "outputId": "77d78db8-6de1-4a15-b775-cf5caf944167"
      },
      "execution_count": 11,
      "outputs": [
        {
          "output_type": "stream",
          "name": "stdout",
          "text": [
            "Darth Vader once said, \"I find your lack of faith distrubring.\"\n"
          ]
        }
      ]
    },
    {
      "cell_type": "code",
      "source": [
        "famous_person = \"Darth Vader\"\n",
        "message = famous_person + \" once said, \" + '\"I find your lack of faith distrubring.\"'\n",
        "print(message)"
      ],
      "metadata": {
        "colab": {
          "base_uri": "https://localhost:8080/"
        },
        "id": "9S_cC3-kAE_b",
        "outputId": "cb884fee-a3f9-458c-efbd-88cef22f29c2"
      },
      "execution_count": 13,
      "outputs": [
        {
          "output_type": "stream",
          "name": "stdout",
          "text": [
            "Darth Vader once said, \"I find your lack of faith distrubring.\"\n"
          ]
        }
      ]
    },
    {
      "cell_type": "code",
      "source": [
        "name = '\\tAdam James \\nDempsey '\n",
        "print(name)\n",
        "name = name.rstrip()\n",
        "print(name)\n",
        "name = name.lstrip()\n",
        "print(name)\n",
        "name = name.strip()\n",
        "print(name)\n",
        "\n"
      ],
      "metadata": {
        "colab": {
          "base_uri": "https://localhost:8080/"
        },
        "id": "0WqR4FZXAsUU",
        "outputId": "6d8bff3d-d7e9-4b47-c559-b29289224ae8"
      },
      "execution_count": 33,
      "outputs": [
        {
          "output_type": "stream",
          "name": "stdout",
          "text": [
            "\tAdam James \n",
            "Dempsey \n",
            "\tAdam James \n",
            "Dempsey\n",
            "Adam James \n",
            "Dempsey\n",
            "Adam James \n",
            "Dempsey\n"
          ]
        }
      ]
    },
    {
      "cell_type": "code",
      "source": [
        "filename = 'python_notes.txt'\n",
        "filename.removesuffix('.txt')"
      ],
      "metadata": {
        "colab": {
          "base_uri": "https://localhost:8080/",
          "height": 35
        },
        "id": "1990LN-qCtb3",
        "outputId": "6f2f190b-ed1c-47a0-de94-63fa7c6571ed"
      },
      "execution_count": 34,
      "outputs": [
        {
          "output_type": "execute_result",
          "data": {
            "text/plain": [
              "'python_notes'"
            ],
            "application/vnd.google.colaboratory.intrinsic+json": {
              "type": "string"
            }
          },
          "metadata": {},
          "execution_count": 34
        }
      ]
    },
    {
      "cell_type": "code",
      "source": [
        "print(4+4)\n",
        "print(12-4)\n",
        "print(4*2)\n",
        "print(64/8)"
      ],
      "metadata": {
        "colab": {
          "base_uri": "https://localhost:8080/"
        },
        "id": "FPUiCSrfDbDw",
        "outputId": "1c241152-eb00-469c-effd-5db155501708"
      },
      "execution_count": 35,
      "outputs": [
        {
          "output_type": "stream",
          "name": "stdout",
          "text": [
            "8\n",
            "8\n",
            "8\n",
            "8.0\n"
          ]
        }
      ]
    },
    {
      "cell_type": "code",
      "source": [
        "favorite_number = \"5\"\n",
        "message = \"Adam's favorite number is \" + favorite_number + \"!\"\n",
        "print(message)"
      ],
      "metadata": {
        "colab": {
          "base_uri": "https://localhost:8080/"
        },
        "id": "vlV6Hqq6Dpt5",
        "outputId": "88268731-2a00-4f45-ae8d-bb789bed7be5"
      },
      "execution_count": 39,
      "outputs": [
        {
          "output_type": "stream",
          "name": "stdout",
          "text": [
            "Adam's favorite number is 5!\n"
          ]
        }
      ]
    },
    {
      "cell_type": "code",
      "source": [
        "import this"
      ],
      "metadata": {
        "colab": {
          "base_uri": "https://localhost:8080/"
        },
        "id": "2Fa8wwtvEV7r",
        "outputId": "83ae655a-759a-4828-f95b-a7794a6d3275"
      },
      "execution_count": 41,
      "outputs": [
        {
          "output_type": "stream",
          "name": "stdout",
          "text": [
            "The Zen of Python, by Tim Peters\n",
            "\n",
            "Beautiful is better than ugly.\n",
            "Explicit is better than implicit.\n",
            "Simple is better than complex.\n",
            "Complex is better than complicated.\n",
            "Flat is better than nested.\n",
            "Sparse is better than dense.\n",
            "Readability counts.\n",
            "Special cases aren't special enough to break the rules.\n",
            "Although practicality beats purity.\n",
            "Errors should never pass silently.\n",
            "Unless explicitly silenced.\n",
            "In the face of ambiguity, refuse the temptation to guess.\n",
            "There should be one-- and preferably only one --obvious way to do it.\n",
            "Although that way may not be obvious at first unless you're Dutch.\n",
            "Now is better than never.\n",
            "Although never is often better than *right* now.\n",
            "If the implementation is hard to explain, it's a bad idea.\n",
            "If the implementation is easy to explain, it may be a good idea.\n",
            "Namespaces are one honking great idea -- let's do more of those!\n"
          ]
        }
      ]
    }
  ]
}